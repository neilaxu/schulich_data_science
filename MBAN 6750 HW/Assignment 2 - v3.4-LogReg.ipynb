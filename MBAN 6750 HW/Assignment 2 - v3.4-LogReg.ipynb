{
 "cells": [
  {
   "cell_type": "code",
   "execution_count": 28,
   "metadata": {},
   "outputs": [],
   "source": [
    "import pandas as pd\n",
    "import pandas as pd\n",
    "import numpy as np\n",
    "from sklearn.impute import KNNImputer\n",
    "from sklearn.preprocessing import LabelEncoder\n",
    "import matplotlib.pyplot as plt\n",
    "import seaborn as sns\n",
    "import matplotlib.pyplot as plt\n",
    "\n",
    "# Load the datasets\n",
    "customers_df = pd.read_csv('https://raw.githubusercontent.com/delinai/schulich_ds1_2024/main/Datasets/customers_final.csv')\n",
    "engagements_df = pd.read_csv('https://raw.githubusercontent.com/delinai/schulich_ds1_2024/main/Datasets/engagements_final.csv')\n",
    "marketing_df = pd.read_csv('https://raw.githubusercontent.com/delinai/schulich_ds1_2024/main/Datasets/marketing_final.csv')\n",
    "transactions_df = pd.read_csv('https://raw.githubusercontent.com/delinai/schulich_ds1_2024/main/Datasets/transactions_final.csv')"
   ]
  },
  {
   "cell_type": "code",
   "execution_count": 29,
   "metadata": {},
   "outputs": [],
   "source": [
    "## DATA CLEANING"
   ]
  },
  {
   "cell_type": "code",
   "execution_count": 30,
   "metadata": {},
   "outputs": [],
   "source": [
    "# Convert date columns to datetime\n",
    "customers_df['join_date'] = pd.to_datetime(customers_df['join_date'])\n",
    "customers_df['last_purchase_date'] = pd.to_datetime(customers_df['last_purchase_date'])\n",
    "marketing_df['campaign_date'] = pd.to_datetime(marketing_df['campaign_date'])\n",
    "transactions_df['transaction_date'] = pd.to_datetime(transactions_df['transaction_date'])"
   ]
  },
  {
   "cell_type": "code",
   "execution_count": 31,
   "metadata": {},
   "outputs": [],
   "source": [
    "# Define the cutoff date\n",
    "cutoff_date = pd.to_datetime('2024-05-31')\n",
    "\n",
    "# Convert dates later than 5/31/2024 to 5/31/2024\n",
    "customers_df['join_date'] = customers_df['join_date'].apply(lambda x: x if x <= cutoff_date else cutoff_date)\n",
    "customers_df['last_purchase_date'] = customers_df['last_purchase_date'].apply(lambda x: x if x <= cutoff_date else cutoff_date)\n",
    "marketing_df['campaign_date'] = marketing_df['campaign_date'].apply(lambda x: x if x <= cutoff_date else cutoff_date)\n",
    "transactions_df['transaction_date'] = transactions_df['transaction_date'].apply(lambda x: x if x <= cutoff_date else cutoff_date)"
   ]
  },
  {
   "cell_type": "code",
   "execution_count": 32,
   "metadata": {},
   "outputs": [],
   "source": [
    "# Merging\n",
    "# Aggregate marketing responses\n",
    "marketing_agg = marketing_df.groupby('customer_id')['response'].value_counts().unstack(fill_value=0).reset_index()\n",
    "marketing_agg.columns = ['customer_id', 'no_response', 'yes_response']\n",
    "\n",
    "# Aggregate transaction data\n",
    "transactions_agg = transactions_df.groupby('customer_id').agg(\n",
    "    total_transaction_amount=pd.NamedAgg(column='transaction_amount', aggfunc='sum'),\n",
    "    number_of_transactions=pd.NamedAgg(column='transaction_id', aggfunc='count')\n",
    ").reset_index()\n",
    "\n",
    "# Merge all dataframes\n",
    "merged_df = customers_df.merge(engagements_df, on='customer_id', how='left') \\\n",
    "                        .merge(marketing_agg, on='customer_id', how='left') \\\n",
    "                        .merge(transactions_agg, on='customer_id', how='left')\n",
    "\n",
    "# Fill NaN values for no_response and yes_response with 0\n",
    "merged_df['no_response'] = merged_df['no_response'].fillna(0)\n",
    "merged_df['yes_response'] = merged_df['yes_response'].fillna(0)\n",
    "\n",
    "# Fill NaN values for total_transaction_amount and number_of_transactions with 0\n",
    "merged_df['total_transaction_amount'] = merged_df['total_transaction_amount'].fillna(0)\n",
    "merged_df['number_of_transactions'] = merged_df['number_of_transactions'].fillna(0)"
   ]
  },
  {
   "cell_type": "code",
   "execution_count": 33,
   "metadata": {},
   "outputs": [],
   "source": [
    "# Impute 'Unknown' for missing gender values\n",
    "merged_df['gender'] = merged_df['gender'].fillna('Unknown')"
   ]
  },
  {
   "cell_type": "code",
   "execution_count": 34,
   "metadata": {},
   "outputs": [],
   "source": [
    "# Impute missing age with KNNImputer\n",
    "from sklearn.impute import KNNImputer\n",
    "from sklearn.preprocessing import LabelEncoder\n",
    "\n",
    "# Convert date columns to numeric\n",
    "merged_df['join_date_numeric'] = merged_df['join_date'].astype('int64') // 10**9\n",
    "merged_df['last_purchase_date_numeric'] = merged_df['last_purchase_date'].astype('int64') // 10**9\n",
    "\n",
    "# Encode categorical variables\n",
    "le_gender = LabelEncoder()\n",
    "merged_df['gender_encoded'] = le_gender.fit_transform(merged_df['gender'])\n",
    "\n",
    "le_location = LabelEncoder()\n",
    "merged_df['location_encoded'] = le_location.fit_transform(merged_df['location'])\n",
    "\n",
    "# Prepare data for KNN imputation\n",
    "impute_cols = ['age', 'join_date_numeric', 'last_purchase_date_numeric', 'gender_encoded', 'location_encoded']\n",
    "impute_data = merged_df[impute_cols]\n",
    "\n",
    "# Perform KNN imputation\n",
    "knn_imputer = KNNImputer(n_neighbors=5)\n",
    "imputed_data = knn_imputer.fit_transform(impute_data)\n",
    "\n",
    "# Assign imputed age values back to the dataframe\n",
    "merged_df['age'] = imputed_data[:, 0]\n",
    "\n",
    "# Drop intermediate columns\n",
    "merged_df = merged_df.drop(columns=['join_date_numeric', 'last_purchase_date_numeric', 'gender_encoded', 'location_encoded'])"
   ]
  },
  {
   "cell_type": "code",
   "execution_count": 35,
   "metadata": {},
   "outputs": [],
   "source": [
    "## Feature Engineering"
   ]
  },
  {
   "cell_type": "code",
   "execution_count": 36,
   "metadata": {},
   "outputs": [],
   "source": [
    "# Calculate Recency, Frequency, and Monetary (clv_monthly) Value (RFM) features\n",
    "import numpy as np\n",
    "\n",
    "# Define the cutoff date\n",
    "cutoff_date = pd.to_datetime('2024-05-31')\n",
    "\n",
    "# Calculate the joined month\n",
    "merged_df['joined_month'] = ((cutoff_date - merged_df['join_date']).dt.days / 30).astype(int)\n",
    "merged_df['joined_month'] = merged_df['joined_month'].apply(lambda x: 1 if x == 0 else x)\n",
    "\n",
    "# Calculate Recency (in months)\n",
    "merged_df['recency_months'] = (( merged_df['last_purchase_date'] - cutoff_date).dt.days / 30).astype(int)\n",
    "\n",
    "# Calculate Frequency\n",
    "merged_df['frequency'] = merged_df['number_of_transactions']\n",
    "\n",
    "# Calculate Monetary Value (transaction value per month (CLV), clv_monthly)\n",
    "merged_df['clv'] = merged_df['total_transaction_amount']\n",
    "merged_df['clv_monthly'] = merged_df['clv'] / merged_df['joined_month']\n",
    "\n",
    "# Fill any NaN values resulting from zero transactions or other calculations\n",
    "merged_df['recency_months'] = merged_df['recency_months'].fillna(0)\n",
    "merged_df['frequency'] = merged_df['frequency'].fillna(0)\n",
    "merged_df['clv_monthly'] = merged_df['clv_monthly'].fillna(0)"
   ]
  },
  {
   "cell_type": "code",
   "execution_count": 37,
   "metadata": {},
   "outputs": [],
   "source": [
    "# For marketing and engagement data\n",
    "# Calculate the number of 'yes_response' per month\n",
    "merged_df['yes_response_per_month'] = merged_df['yes_response'] / merged_df['joined_month']\n",
    "\n",
    "# Calculate the number of 'no_response' per month\n",
    "merged_df['no_response_per_month'] = merged_df['no_response'] / merged_df['joined_month']\n",
    "\n",
    "# Calculate the number of site visits per month\n",
    "merged_df['site_visits_per_month'] = merged_df['number_of_site_visits'] / merged_df['joined_month']\n",
    "\n",
    "# Calculate the number of emails opened per month\n",
    "merged_df['emails_opened_per_month'] = merged_df['number_of_emails_opened'] / merged_df['joined_month']\n",
    "\n",
    "# Calculate the number of clicks per month\n",
    "merged_df['clicks_per_month'] = merged_df['number_of_clicks'] / merged_df['joined_month']"
   ]
  },
  {
   "cell_type": "code",
   "execution_count": 38,
   "metadata": {},
   "outputs": [],
   "source": [
    "# use the 80-20 rule, sorting the customer with clv_monthly\n",
    "# labelling the highest clv_monthly customers who cumulatively contribute 80% of the total monthly clv as 'High-Value'\n",
    "# other as ‘Low-Value’\n",
    "\n",
    "# Calculate the cumulative contribution of each customer to the total monthly CLV\n",
    "merged_df = merged_df.sort_values(by='clv_monthly', ascending=False)\n",
    "merged_df['cumulative_clv'] = merged_df['clv_monthly'].cumsum()\n",
    "total_clv = merged_df['clv_monthly'].sum()\n",
    "merged_df['cumulative_clv_percentage'] = merged_df['cumulative_clv'] / total_clv\n",
    "\n",
    "# Label customers based on their contribution to the total monthly CLV\n",
    "merged_df['value_label'] = np.where(merged_df['cumulative_clv_percentage'] <= 0.80, 'High-Value', 'Low-Value')\n",
    "\n",
    "# Convert CLV_label to binary\n",
    "merged_df['value_label'] = np.where(merged_df['value_label'] == 'High-Value', 1, 0)\n",
    "\n",
    "# Drop intermediate columns\n",
    "merged_df = merged_df.drop(columns=['cumulative_clv', 'cumulative_clv_percentage'])"
   ]
  },
  {
   "cell_type": "code",
   "execution_count": 39,
   "metadata": {},
   "outputs": [],
   "source": [
    "## Model"
   ]
  },
  {
   "cell_type": "code",
   "execution_count": 40,
   "metadata": {},
   "outputs": [],
   "source": [
    "# split data into X variables and y variable\n",
    "# Define the y variable\n",
    "y = merged_df['value_label']\n",
    "\n",
    "# Define the X variables\n",
    "X = merged_df[['age', 'gender', 'recency_months', 'frequency', 'yes_response_per_month','clicks_per_month']]"
   ]
  },
  {
   "cell_type": "code",
   "execution_count": 41,
   "metadata": {},
   "outputs": [],
   "source": [
    "# Create Pipelines and check the F1 socre for each model\n",
    "from sklearn.compose import ColumnTransformer\n",
    "from sklearn.preprocessing import MinMaxScaler, OneHotEncoder\n",
    "from sklearn.model_selection import train_test_split\n",
    "from sklearn.pipeline import Pipeline\n",
    "from sklearn.neighbors import KNeighborsClassifier\n",
    "from sklearn.linear_model import LogisticRegression\n",
    "from sklearn.naive_bayes import GaussianNB\n",
    "from sklearn.model_selection import cross_val_score\n",
    "\n",
    "# Identify numerical and categorical columns\n",
    "numerical_cols = ['age', 'recency_months', 'frequency', 'yes_response_per_month','clicks_per_month']\n",
    "categorical_cols = ['gender']\n",
    "\n",
    "# Define the ColumnTransformer\n",
    "preprocessor = ColumnTransformer(\n",
    "    transformers=[\n",
    "        ('num', MinMaxScaler(), numerical_cols),\n",
    "        ('cat', OneHotEncoder(drop='first'), categorical_cols)\n",
    "    ])\n",
    "\n",
    "# Fit and transform the data\n",
    "X_preprocessed = preprocessor.fit_transform(X)\n"
   ]
  },
  {
   "cell_type": "code",
   "execution_count": 42,
   "metadata": {},
   "outputs": [
    {
     "name": "stdout",
     "output_type": "stream",
     "text": [
      "Mean F1 score for KNeighborsClassifier: 0.6771\n",
      "Mean F1 score for LogisticRegression: 0.7078\n",
      "Mean F1 score for GaussianNB: 0.5404\n"
     ]
    }
   ],
   "source": [
    "from sklearn.model_selection import train_test_split, cross_val_score\n",
    "from sklearn.neighbors import KNeighborsClassifier\n",
    "from sklearn.linear_model import LogisticRegression\n",
    "from sklearn.naive_bayes import GaussianNB\n",
    "from sklearn.metrics import make_scorer, f1_score\n",
    "import numpy as np\n",
    "\n",
    "# Split the data into train and test sets\n",
    "X_train, X_test, y_train, y_test = train_test_split(X_preprocessed, y, test_size=0.3, random_state=42)\n",
    "\n",
    "# Define the models\n",
    "knn = KNeighborsClassifier()\n",
    "logreg = LogisticRegression(max_iter=1000)\n",
    "nb = GaussianNB()\n",
    "\n",
    "# Define the F1 scorer\n",
    "f1_scorer = make_scorer(f1_score)\n",
    "\n",
    "# Calculate the mean F1 score for each model using cross-validation\n",
    "knn_f1 = cross_val_score(knn, X_train, y_train, cv=5, scoring=f1_scorer).mean()\n",
    "logreg_f1 = cross_val_score(logreg, X_train, y_train, cv=5, scoring=f1_scorer).mean()\n",
    "nb_f1 = cross_val_score(nb, X_train, y_train, cv=5, scoring=f1_scorer).mean()\n",
    "\n",
    "print(f'Mean F1 score for KNeighborsClassifier: {knn_f1:.4f}')\n",
    "print(f'Mean F1 score for LogisticRegression: {logreg_f1:.4f}')\n",
    "print(f'Mean F1 score for GaussianNB: {nb_f1:.4f}')"
   ]
  },
  {
   "cell_type": "code",
   "execution_count": 43,
   "metadata": {},
   "outputs": [
    {
     "name": "stdout",
     "output_type": "stream",
     "text": [
      "Best parameters for Logistic Regression: {'C': 100, 'penalty': 'l1', 'solver': 'saga'}\n",
      "Best F1 score for Logistic Regression: 0.7327\n"
     ]
    },
    {
     "name": "stderr",
     "output_type": "stream",
     "text": [
      "c:\\Users\\NeilXu\\AppData\\Local\\Programs\\Python\\Python312\\Lib\\site-packages\\sklearn\\model_selection\\_validation.py:547: FitFailedWarning: \n",
      "175 fits failed out of a total of 300.\n",
      "The score on these train-test partitions for these parameters will be set to nan.\n",
      "If these failures are not expected, you can try to debug them by setting error_score='raise'.\n",
      "\n",
      "Below are more details about the failures:\n",
      "--------------------------------------------------------------------------------\n",
      "25 fits failed with the following error:\n",
      "Traceback (most recent call last):\n",
      "  File \"c:\\Users\\NeilXu\\AppData\\Local\\Programs\\Python\\Python312\\Lib\\site-packages\\sklearn\\model_selection\\_validation.py\", line 895, in _fit_and_score\n",
      "    estimator.fit(X_train, y_train, **fit_params)\n",
      "  File \"c:\\Users\\NeilXu\\AppData\\Local\\Programs\\Python\\Python312\\Lib\\site-packages\\sklearn\\base.py\", line 1474, in wrapper\n",
      "    return fit_method(estimator, *args, **kwargs)\n",
      "           ^^^^^^^^^^^^^^^^^^^^^^^^^^^^^^^^^^^^^^\n",
      "  File \"c:\\Users\\NeilXu\\AppData\\Local\\Programs\\Python\\Python312\\Lib\\site-packages\\sklearn\\linear_model\\_logistic.py\", line 1172, in fit\n",
      "    solver = _check_solver(self.solver, self.penalty, self.dual)\n",
      "             ^^^^^^^^^^^^^^^^^^^^^^^^^^^^^^^^^^^^^^^^^^^^^^^^^^^\n",
      "  File \"c:\\Users\\NeilXu\\AppData\\Local\\Programs\\Python\\Python312\\Lib\\site-packages\\sklearn\\linear_model\\_logistic.py\", line 67, in _check_solver\n",
      "    raise ValueError(\n",
      "ValueError: Solver lbfgs supports only 'l2' or None penalties, got l1 penalty.\n",
      "\n",
      "--------------------------------------------------------------------------------\n",
      "25 fits failed with the following error:\n",
      "Traceback (most recent call last):\n",
      "  File \"c:\\Users\\NeilXu\\AppData\\Local\\Programs\\Python\\Python312\\Lib\\site-packages\\sklearn\\model_selection\\_validation.py\", line 895, in _fit_and_score\n",
      "    estimator.fit(X_train, y_train, **fit_params)\n",
      "  File \"c:\\Users\\NeilXu\\AppData\\Local\\Programs\\Python\\Python312\\Lib\\site-packages\\sklearn\\base.py\", line 1474, in wrapper\n",
      "    return fit_method(estimator, *args, **kwargs)\n",
      "           ^^^^^^^^^^^^^^^^^^^^^^^^^^^^^^^^^^^^^^\n",
      "  File \"c:\\Users\\NeilXu\\AppData\\Local\\Programs\\Python\\Python312\\Lib\\site-packages\\sklearn\\linear_model\\_logistic.py\", line 1172, in fit\n",
      "    solver = _check_solver(self.solver, self.penalty, self.dual)\n",
      "             ^^^^^^^^^^^^^^^^^^^^^^^^^^^^^^^^^^^^^^^^^^^^^^^^^^^\n",
      "  File \"c:\\Users\\NeilXu\\AppData\\Local\\Programs\\Python\\Python312\\Lib\\site-packages\\sklearn\\linear_model\\_logistic.py\", line 67, in _check_solver\n",
      "    raise ValueError(\n",
      "ValueError: Solver lbfgs supports only 'l2' or None penalties, got elasticnet penalty.\n",
      "\n",
      "--------------------------------------------------------------------------------\n",
      "25 fits failed with the following error:\n",
      "Traceback (most recent call last):\n",
      "  File \"c:\\Users\\NeilXu\\AppData\\Local\\Programs\\Python\\Python312\\Lib\\site-packages\\sklearn\\model_selection\\_validation.py\", line 895, in _fit_and_score\n",
      "    estimator.fit(X_train, y_train, **fit_params)\n",
      "  File \"c:\\Users\\NeilXu\\AppData\\Local\\Programs\\Python\\Python312\\Lib\\site-packages\\sklearn\\base.py\", line 1474, in wrapper\n",
      "    return fit_method(estimator, *args, **kwargs)\n",
      "           ^^^^^^^^^^^^^^^^^^^^^^^^^^^^^^^^^^^^^^\n",
      "  File \"c:\\Users\\NeilXu\\AppData\\Local\\Programs\\Python\\Python312\\Lib\\site-packages\\sklearn\\linear_model\\_logistic.py\", line 1172, in fit\n",
      "    solver = _check_solver(self.solver, self.penalty, self.dual)\n",
      "             ^^^^^^^^^^^^^^^^^^^^^^^^^^^^^^^^^^^^^^^^^^^^^^^^^^^\n",
      "  File \"c:\\Users\\NeilXu\\AppData\\Local\\Programs\\Python\\Python312\\Lib\\site-packages\\sklearn\\linear_model\\_logistic.py\", line 75, in _check_solver\n",
      "    raise ValueError(\n",
      "ValueError: Only 'saga' solver supports elasticnet penalty, got solver=liblinear.\n",
      "\n",
      "--------------------------------------------------------------------------------\n",
      "25 fits failed with the following error:\n",
      "Traceback (most recent call last):\n",
      "  File \"c:\\Users\\NeilXu\\AppData\\Local\\Programs\\Python\\Python312\\Lib\\site-packages\\sklearn\\model_selection\\_validation.py\", line 895, in _fit_and_score\n",
      "    estimator.fit(X_train, y_train, **fit_params)\n",
      "  File \"c:\\Users\\NeilXu\\AppData\\Local\\Programs\\Python\\Python312\\Lib\\site-packages\\sklearn\\base.py\", line 1474, in wrapper\n",
      "    return fit_method(estimator, *args, **kwargs)\n",
      "           ^^^^^^^^^^^^^^^^^^^^^^^^^^^^^^^^^^^^^^\n",
      "  File \"c:\\Users\\NeilXu\\AppData\\Local\\Programs\\Python\\Python312\\Lib\\site-packages\\sklearn\\linear_model\\_logistic.py\", line 1182, in fit\n",
      "    raise ValueError(\"l1_ratio must be specified when penalty is elasticnet.\")\n",
      "ValueError: l1_ratio must be specified when penalty is elasticnet.\n",
      "\n",
      "--------------------------------------------------------------------------------\n",
      "12 fits failed with the following error:\n",
      "Traceback (most recent call last):\n",
      "  File \"c:\\Users\\NeilXu\\AppData\\Local\\Programs\\Python\\Python312\\Lib\\site-packages\\sklearn\\model_selection\\_validation.py\", line 895, in _fit_and_score\n",
      "    estimator.fit(X_train, y_train, **fit_params)\n",
      "  File \"c:\\Users\\NeilXu\\AppData\\Local\\Programs\\Python\\Python312\\Lib\\site-packages\\sklearn\\base.py\", line 1467, in wrapper\n",
      "    estimator._validate_params()\n",
      "  File \"c:\\Users\\NeilXu\\AppData\\Local\\Programs\\Python\\Python312\\Lib\\site-packages\\sklearn\\base.py\", line 666, in _validate_params\n",
      "    validate_parameter_constraints(\n",
      "  File \"c:\\Users\\NeilXu\\AppData\\Local\\Programs\\Python\\Python312\\Lib\\site-packages\\sklearn\\utils\\_param_validation.py\", line 95, in validate_parameter_constraints\n",
      "    raise InvalidParameterError(\n",
      "sklearn.utils._param_validation.InvalidParameterError: The 'penalty' parameter of LogisticRegression must be a str among {'l2', 'elasticnet', 'l1'} or None. Got 'none' instead.\n",
      "\n",
      "--------------------------------------------------------------------------------\n",
      "37 fits failed with the following error:\n",
      "Traceback (most recent call last):\n",
      "  File \"c:\\Users\\NeilXu\\AppData\\Local\\Programs\\Python\\Python312\\Lib\\site-packages\\sklearn\\model_selection\\_validation.py\", line 895, in _fit_and_score\n",
      "    estimator.fit(X_train, y_train, **fit_params)\n",
      "  File \"c:\\Users\\NeilXu\\AppData\\Local\\Programs\\Python\\Python312\\Lib\\site-packages\\sklearn\\base.py\", line 1467, in wrapper\n",
      "    estimator._validate_params()\n",
      "  File \"c:\\Users\\NeilXu\\AppData\\Local\\Programs\\Python\\Python312\\Lib\\site-packages\\sklearn\\base.py\", line 666, in _validate_params\n",
      "    validate_parameter_constraints(\n",
      "  File \"c:\\Users\\NeilXu\\AppData\\Local\\Programs\\Python\\Python312\\Lib\\site-packages\\sklearn\\utils\\_param_validation.py\", line 95, in validate_parameter_constraints\n",
      "    raise InvalidParameterError(\n",
      "sklearn.utils._param_validation.InvalidParameterError: The 'penalty' parameter of LogisticRegression must be a str among {'l1', 'l2', 'elasticnet'} or None. Got 'none' instead.\n",
      "\n",
      "--------------------------------------------------------------------------------\n",
      "19 fits failed with the following error:\n",
      "Traceback (most recent call last):\n",
      "  File \"c:\\Users\\NeilXu\\AppData\\Local\\Programs\\Python\\Python312\\Lib\\site-packages\\sklearn\\model_selection\\_validation.py\", line 895, in _fit_and_score\n",
      "    estimator.fit(X_train, y_train, **fit_params)\n",
      "  File \"c:\\Users\\NeilXu\\AppData\\Local\\Programs\\Python\\Python312\\Lib\\site-packages\\sklearn\\base.py\", line 1467, in wrapper\n",
      "    estimator._validate_params()\n",
      "  File \"c:\\Users\\NeilXu\\AppData\\Local\\Programs\\Python\\Python312\\Lib\\site-packages\\sklearn\\base.py\", line 666, in _validate_params\n",
      "    validate_parameter_constraints(\n",
      "  File \"c:\\Users\\NeilXu\\AppData\\Local\\Programs\\Python\\Python312\\Lib\\site-packages\\sklearn\\utils\\_param_validation.py\", line 95, in validate_parameter_constraints\n",
      "    raise InvalidParameterError(\n",
      "sklearn.utils._param_validation.InvalidParameterError: The 'penalty' parameter of LogisticRegression must be a str among {'elasticnet', 'l1', 'l2'} or None. Got 'none' instead.\n",
      "\n",
      "--------------------------------------------------------------------------------\n",
      "7 fits failed with the following error:\n",
      "Traceback (most recent call last):\n",
      "  File \"c:\\Users\\NeilXu\\AppData\\Local\\Programs\\Python\\Python312\\Lib\\site-packages\\sklearn\\model_selection\\_validation.py\", line 895, in _fit_and_score\n",
      "    estimator.fit(X_train, y_train, **fit_params)\n",
      "  File \"c:\\Users\\NeilXu\\AppData\\Local\\Programs\\Python\\Python312\\Lib\\site-packages\\sklearn\\base.py\", line 1467, in wrapper\n",
      "    estimator._validate_params()\n",
      "  File \"c:\\Users\\NeilXu\\AppData\\Local\\Programs\\Python\\Python312\\Lib\\site-packages\\sklearn\\base.py\", line 666, in _validate_params\n",
      "    validate_parameter_constraints(\n",
      "  File \"c:\\Users\\NeilXu\\AppData\\Local\\Programs\\Python\\Python312\\Lib\\site-packages\\sklearn\\utils\\_param_validation.py\", line 95, in validate_parameter_constraints\n",
      "    raise InvalidParameterError(\n",
      "sklearn.utils._param_validation.InvalidParameterError: The 'penalty' parameter of LogisticRegression must be a str among {'l2', 'l1', 'elasticnet'} or None. Got 'none' instead.\n",
      "\n",
      "  warnings.warn(some_fits_failed_message, FitFailedWarning)\n",
      "c:\\Users\\NeilXu\\AppData\\Local\\Programs\\Python\\Python312\\Lib\\site-packages\\sklearn\\model_selection\\_search.py:1051: UserWarning: One or more of the test scores are non-finite: [       nan 0.         0.36267709 0.0506735  0.01989569 0.0506735\n",
      "        nan        nan        nan        nan        nan        nan\n",
      "        nan 0.69870494 0.70767149 0.61570441 0.57675141 0.61570441\n",
      "        nan        nan        nan        nan        nan        nan\n",
      "        nan 0.72848171 0.72851565 0.70780846 0.70739189 0.7080167\n",
      "        nan        nan        nan        nan        nan        nan\n",
      "        nan 0.73200076 0.73121307 0.72732346 0.72644877 0.72768028\n",
      "        nan        nan        nan        nan        nan        nan\n",
      "        nan 0.73251286 0.73271356 0.73095883 0.73172474 0.73095883\n",
      "        nan        nan        nan        nan        nan        nan]\n",
      "  warnings.warn(\n"
     ]
    }
   ],
   "source": [
    "from sklearn.linear_model import LogisticRegression\n",
    "from sklearn.model_selection import GridSearchCV\n",
    "import statsmodels.api as sm\n",
    "import pandas as pd\n",
    "\n",
    "# Define the parameter grid for Logistic Regression\n",
    "param_grid = {\n",
    "    'penalty': ['l1', 'l2', 'elasticnet', 'none'],\n",
    "    'C': [0.01, 0.1, 1, 10, 100],\n",
    "    'solver': ['lbfgs', 'liblinear', 'saga']\n",
    "}\n",
    "\n",
    "# Initialize the LogisticRegression\n",
    "logreg = LogisticRegression(max_iter=1000)\n",
    "\n",
    "# Perform GridSearchCV\n",
    "grid_search_logreg = GridSearchCV(estimator=logreg, param_grid=param_grid, cv=5, scoring='f1', n_jobs=-1)\n",
    "grid_search_logreg.fit(X_train, y_train)\n",
    "\n",
    "# Get the best parameters and the best F1 score\n",
    "best_params_logreg = grid_search_logreg.best_params_\n",
    "best_f1_score_logreg = grid_search_logreg.best_score_\n",
    "\n",
    "print(f'Best parameters for Logistic Regression: {best_params_logreg}')\n",
    "print(f'Best F1 score for Logistic Regression: {best_f1_score_logreg:.4f}')"
   ]
  },
  {
   "cell_type": "code",
   "execution_count": 44,
   "metadata": {},
   "outputs": [
    {
     "name": "stdout",
     "output_type": "stream",
     "text": [
      "Accuracy: 0.8730\n",
      "Precision: 0.7997\n",
      "Recall: 0.7261\n",
      "F1 Score: 0.7611\n",
      "ROC AUC Score: 0.9369\n",
      "\n",
      "Classification Report:\n",
      "              precision    recall  f1-score   support\n",
      "\n",
      "           0       0.90      0.93      0.91      2164\n",
      "           1       0.80      0.73      0.76       836\n",
      "\n",
      "    accuracy                           0.87      3000\n",
      "   macro avg       0.85      0.83      0.84      3000\n",
      "weighted avg       0.87      0.87      0.87      3000\n",
      "\n"
     ]
    },
    {
     "data": {
      "text/plain": [
       "<Figure size 1000x600 with 0 Axes>"
      ]
     },
     "metadata": {},
     "output_type": "display_data"
    },
    {
     "data": {
      "image/png": "[encoded data removed]",
      "text/plain": [
       "<Figure size 640x480 with 1 Axes>"
      ]
     },
     "metadata": {},
     "output_type": "display_data"
    },
    {
     "data": {
      "text/plain": [
       "<Figure size 800x600 with 0 Axes>"
      ]
     },
     "metadata": {},
     "output_type": "display_data"
    },
    {
     "data": {
      "image/png": "[encoded data removed]",
      "text/plain": [
       "<Figure size 640x480 with 2 Axes>"
      ]
     },
     "metadata": {},
     "output_type": "display_data"
    }
   ],
   "source": [
    "from sklearn.metrics import accuracy_score, precision_score, recall_score, f1_score, roc_auc_score, classification_report, roc_curve, confusion_matrix, ConfusionMatrixDisplay, RocCurveDisplay\n",
    "import matplotlib.pyplot as plt\n",
    "\n",
    "# Apply the best combination of hyperparameters\n",
    "best_logreg = LogisticRegression(**best_params_logreg, max_iter=1000)\n",
    "best_logreg.fit(X_train, y_train)\n",
    "\n",
    "# Make predictions on the test set\n",
    "y_pred_logreg = best_logreg.predict(X_test)\n",
    "\n",
    "# Evaluate the Logistic Regression model\n",
    "accuracy_logreg = accuracy_score(y_test, y_pred_logreg)\n",
    "precision_logreg = precision_score(y_test, y_pred_logreg)\n",
    "recall_logreg = recall_score(y_test, y_pred_logreg)\n",
    "f1_logreg = f1_score(y_test, y_pred_logreg)\n",
    "roc_auc_logreg = roc_auc_score(y_test, best_logreg.predict_proba(X_test)[:, 1])\n",
    "\n",
    "# Print the evaluation metrics\n",
    "print(f'Accuracy: {accuracy_logreg:.4f}')\n",
    "print(f'Precision: {precision_logreg:.4f}')\n",
    "print(f'Recall: {recall_logreg:.4f}')\n",
    "print(f'F1 Score: {f1_logreg:.4f}')\n",
    "print(f'ROC AUC Score: {roc_auc_logreg:.4f}')\n",
    "print('\\nClassification Report:')\n",
    "print(classification_report(y_test, y_pred_logreg))\n",
    "\n",
    "# Generate the ROC curve\n",
    "fpr_logreg, tpr_logreg, thresholds_logreg = roc_curve(y_test, best_logreg.predict_proba(X_test)[:, 1])\n",
    "\n",
    "# Plot the ROC curve\n",
    "plt.figure(figsize=(10, 6))\n",
    "roc_display_logreg = RocCurveDisplay(fpr=fpr_logreg, tpr=tpr_logreg, roc_auc=roc_auc_logreg)\n",
    "roc_display_logreg.plot()\n",
    "plt.title('ROC Curve for Logistic Regression')\n",
    "plt.show()\n",
    "\n",
    "# Generate the confusion matrix\n",
    "cm_logreg = confusion_matrix(y_test, y_pred_logreg)\n",
    "\n",
    "# Plot the confusion matrix\n",
    "plt.figure(figsize=(8, 6))\n",
    "cm_display_logreg = ConfusionMatrixDisplay(confusion_matrix=cm_logreg, display_labels=best_logreg.classes_)\n",
    "cm_display_logreg.plot(cmap=plt.cm.Blues)\n",
    "plt.title('Confusion Matrix for Logistic Regression')\n",
    "plt.show()"
   ]
  },
  {
   "cell_type": "code",
   "execution_count": 45,
   "metadata": {},
   "outputs": [
    {
     "name": "stdout",
     "output_type": "stream",
     "text": [
      "Optimization terminated successfully.\n",
      "         Current function value: 0.294036\n",
      "         Iterations 8\n",
      "                      Feature  Coefficient        P-Value\n",
      "const                   const   -13.309790  2.239344e-244\n",
      "x1                        age     0.317360   2.218516e-02\n",
      "x2             recency_months    11.497780  3.370523e-169\n",
      "x3                  frequency     4.875135  1.074011e-188\n",
      "x4     yes_response_per_month    24.393223   3.428888e-61\n",
      "x5           clicks_per_month    -3.904374   3.005025e-52\n",
      "x6                gender_Male    -0.010115   9.003532e-01\n",
      "x7             gender_Unknown    -0.181811   3.106950e-01\n"
     ]
    }
   ],
   "source": [
    "# Logistic Regression Coefficients and p-values\n",
    "# Adding constant for statsmodels\n",
    "X_train_sm = sm.add_constant(X_train)\n",
    "logreg_sm = sm.Logit(y_train, X_train_sm).fit()\n",
    "\n",
    "# Get coefficients and p-values\n",
    "coef_pvalues = pd.DataFrame({\n",
    "    'Feature': ['const'] + list(preprocessor.transformers_[0][2]) + list(preprocessor.transformers_[1][1].get_feature_names_out(categorical_cols)),\n",
    "    'Coefficient': logreg_sm.params,\n",
    "    'P-Value': logreg_sm.pvalues\n",
    "})\n",
    "\n",
    "print(coef_pvalues)"
   ]
  },
  {
   "cell_type": "code",
   "execution_count": 46,
   "metadata": {},
   "outputs": [
    {
     "name": "stdout",
     "output_type": "stream",
     "text": [
      "Accuracy: 0.8703\n",
      "Precision: 0.7492\n",
      "Recall: 0.8038\n",
      "F1 Score: 0.7755\n",
      "ROC AUC Score: 0.9369\n",
      "\n",
      "Classification Report:\n",
      "              precision    recall  f1-score   support\n",
      "\n",
      "           0       0.92      0.90      0.91      2164\n",
      "           1       0.75      0.80      0.78       836\n",
      "\n",
      "    accuracy                           0.87      3000\n",
      "   macro avg       0.84      0.85      0.84      3000\n",
      "weighted avg       0.87      0.87      0.87      3000\n",
      "\n"
     ]
    },
    {
     "data": {
      "text/plain": [
       "<Figure size 1000x600 with 0 Axes>"
      ]
     },
     "metadata": {},
     "output_type": "display_data"
    },
    {
     "data": {
      "image/png": "[encoded data removed]",
      "text/plain": [
       "<Figure size 640x480 with 1 Axes>"
      ]
     },
     "metadata": {},
     "output_type": "display_data"
    },
    {
     "data": {
      "text/plain": [
       "<Figure size 800x600 with 0 Axes>"
      ]
     },
     "metadata": {},
     "output_type": "display_data"
    },
    {
     "data": {
      "image/png": "[encoded data removed]",
      "text/plain": [
       "<Figure size 640x480 with 2 Axes>"
      ]
     },
     "metadata": {},
     "output_type": "display_data"
    }
   ],
   "source": [
    "### 40% Threshold for Log Reg\n",
    "\n",
    "from sklearn.metrics import accuracy_score, precision_score, recall_score, f1_score, roc_auc_score, classification_report, roc_curve, confusion_matrix, ConfusionMatrixDisplay, RocCurveDisplay\n",
    "import matplotlib.pyplot as plt\n",
    "\n",
    "# Apply the best combination of hyperparameters\n",
    "best_logreg = LogisticRegression(**best_params_logreg, max_iter=1000)\n",
    "best_logreg.fit(X_train, y_train)\n",
    "\n",
    "# Make predictions on the test set with a 40% threshold\n",
    "y_pred_proba_logreg = best_logreg.predict_proba(X_test)[:, 1]\n",
    "threshold = 0.4\n",
    "y_pred_logreg = (y_pred_proba_logreg >= threshold).astype(int)\n",
    "\n",
    "# Evaluate the Logistic Regression model\n",
    "accuracy_logreg = accuracy_score(y_test, y_pred_logreg)\n",
    "precision_logreg = precision_score(y_test, y_pred_logreg)\n",
    "recall_logreg = recall_score(y_test, y_pred_logreg)\n",
    "f1_logreg = f1_score(y_test, y_pred_logreg)\n",
    "roc_auc_logreg = roc_auc_score(y_test, y_pred_proba_logreg)\n",
    "\n",
    "# Print the evaluation metrics\n",
    "print(f'Accuracy: {accuracy_logreg:.4f}')\n",
    "print(f'Precision: {precision_logreg:.4f}')\n",
    "print(f'Recall: {recall_logreg:.4f}')\n",
    "print(f'F1 Score: {f1_logreg:.4f}')\n",
    "print(f'ROC AUC Score: {roc_auc_logreg:.4f}')\n",
    "print('\\nClassification Report:')\n",
    "print(classification_report(y_test, y_pred_logreg))\n",
    "\n",
    "# Generate the ROC curve\n",
    "fpr_logreg, tpr_logreg, thresholds_logreg = roc_curve(y_test, y_pred_proba_logreg)\n",
    "\n",
    "# Plot the ROC curve\n",
    "plt.figure(figsize=(10, 6))\n",
    "roc_display_logreg = RocCurveDisplay(fpr=fpr_logreg, tpr=tpr_logreg, roc_auc=roc_auc_logreg)\n",
    "roc_display_logreg.plot()\n",
    "plt.title('ROC Curve for Logistic Regression')\n",
    "plt.show()\n",
    "\n",
    "# Generate the confusion matrix\n",
    "cm_logreg = confusion_matrix(y_test, y_pred_logreg)\n",
    "\n",
    "# Plot the confusion matrix\n",
    "plt.figure(figsize=(8, 6))\n",
    "cm_display_logreg = ConfusionMatrixDisplay(confusion_matrix=cm_logreg, display_labels=best_logreg.classes_)\n",
    "cm_display_logreg.plot(cmap=plt.cm.Blues)\n",
    "plt.title('Confusion Matrix for Logistic Regression')\n",
    "plt.show()\n"
   ]
  },
  {
   "cell_type": "code",
   "execution_count": 47,
   "metadata": {},
   "outputs": [
    {
     "name": "stdout",
     "output_type": "stream",
     "text": [
      "Optimization terminated successfully.\n",
      "         Current function value: 0.294036\n",
      "         Iterations 8\n",
      "                      Feature  Coefficient        P-Value\n",
      "const                   const   -13.309790  2.239344e-244\n",
      "x1                        age     0.317360   2.218516e-02\n",
      "x2             recency_months    11.497780  3.370523e-169\n",
      "x3                  frequency     4.875135  1.074011e-188\n",
      "x4     yes_response_per_month    24.393223   3.428888e-61\n",
      "x5           clicks_per_month    -3.904374   3.005025e-52\n",
      "x6                gender_Male    -0.010115   9.003532e-01\n",
      "x7             gender_Unknown    -0.181811   3.106950e-01\n"
     ]
    }
   ],
   "source": [
    "# Logistic Regression Coefficients and p-values\n",
    "# Adding constant for statsmodels\n",
    "X_train_sm = sm.add_constant(X_train)\n",
    "logreg_sm = sm.Logit(y_train, X_train_sm).fit()\n",
    "\n",
    "# Get coefficients and p-values\n",
    "coef_pvalues2 = pd.DataFrame({\n",
    "    'Feature': ['const'] + list(preprocessor.transformers_[0][2]) + list(preprocessor.transformers_[1][1].get_feature_names_out(categorical_cols)),\n",
    "    'Coefficient': logreg_sm.params,\n",
    "    'P-Value': logreg_sm.pvalues\n",
    "})\n",
    "\n",
    "print(coef_pvalues2)"
   ]
  }
 ],
 "metadata": {
  "kernelspec": {
   "display_name": "Python 3",
   "language": "python",
   "name": "python3"
  },
  "language_info": {
   "codemirror_mode": {
    "name": "ipython",
    "version": 3
   },
   "file_extension": ".py",
   "mimetype": "text/x-python",
   "name": "python",
   "nbconvert_exporter": "python",
   "pygments_lexer": "ipython3",
   "version": "3.12.0"
  }
 },
 "nbformat": 4,
 "nbformat_minor": 2
}
