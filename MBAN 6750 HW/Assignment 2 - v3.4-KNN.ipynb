{
 "cells": [
  {
   "cell_type": "code",
   "execution_count": 1,
   "metadata": {},
   "outputs": [],
   "source": [
    "import pandas as pd\n",
    "import pandas as pd\n",
    "import numpy as np\n",
    "from sklearn.impute import KNNImputer\n",
    "from sklearn.preprocessing import LabelEncoder\n",
    "import matplotlib.pyplot as plt\n",
    "import seaborn as sns\n",
    "import matplotlib.pyplot as plt\n",
    "\n",
    "# Load the datasets\n",
    "customers_df = pd.read_csv('https://raw.githubusercontent.com/delinai/schulich_ds1_2024/main/Datasets/customers_final.csv')\n",
    "engagements_df = pd.read_csv('https://raw.githubusercontent.com/delinai/schulich_ds1_2024/main/Datasets/engagements_final.csv')\n",
    "marketing_df = pd.read_csv('https://raw.githubusercontent.com/delinai/schulich_ds1_2024/main/Datasets/marketing_final.csv')\n",
    "transactions_df = pd.read_csv('https://raw.githubusercontent.com/delinai/schulich_ds1_2024/main/Datasets/transactions_final.csv')"
   ]
  },
  {
   "cell_type": "code",
   "execution_count": 2,
   "metadata": {},
   "outputs": [],
   "source": [
    "## DATA CLEANING"
   ]
  },
  {
   "cell_type": "code",
   "execution_count": 3,
   "metadata": {},
   "outputs": [],
   "source": [
    "# Convert date columns to datetime\n",
    "customers_df['join_date'] = pd.to_datetime(customers_df['join_date'])\n",
    "customers_df['last_purchase_date'] = pd.to_datetime(customers_df['last_purchase_date'])\n",
    "marketing_df['campaign_date'] = pd.to_datetime(marketing_df['campaign_date'])\n",
    "transactions_df['transaction_date'] = pd.to_datetime(transactions_df['transaction_date'])"
   ]
  },
  {
   "cell_type": "code",
   "execution_count": 4,
   "metadata": {},
   "outputs": [],
   "source": [
    "# Define the cutoff date\n",
    "cutoff_date = pd.to_datetime('2024-05-31')\n",
    "\n",
    "# Convert dates later than 5/31/2024 to 5/31/2024\n",
    "customers_df['join_date'] = customers_df['join_date'].apply(lambda x: x if x <= cutoff_date else cutoff_date)\n",
    "customers_df['last_purchase_date'] = customers_df['last_purchase_date'].apply(lambda x: x if x <= cutoff_date else cutoff_date)\n",
    "marketing_df['campaign_date'] = marketing_df['campaign_date'].apply(lambda x: x if x <= cutoff_date else cutoff_date)\n",
    "transactions_df['transaction_date'] = transactions_df['transaction_date'].apply(lambda x: x if x <= cutoff_date else cutoff_date)"
   ]
  },
  {
   "cell_type": "code",
   "execution_count": 5,
   "metadata": {},
   "outputs": [],
   "source": [
    "# Merging\n",
    "# Aggregate marketing responses\n",
    "marketing_agg = marketing_df.groupby('customer_id')['response'].value_counts().unstack(fill_value=0).reset_index()\n",
    "marketing_agg.columns = ['customer_id', 'no_response', 'yes_response']\n",
    "\n",
    "# Aggregate transaction data\n",
    "transactions_agg = transactions_df.groupby('customer_id').agg(\n",
    "    total_transaction_amount=pd.NamedAgg(column='transaction_amount', aggfunc='sum'),\n",
    "    number_of_transactions=pd.NamedAgg(column='transaction_id', aggfunc='count')\n",
    ").reset_index()\n",
    "\n",
    "# Merge all dataframes\n",
    "merged_df = customers_df.merge(engagements_df, on='customer_id', how='left') \\\n",
    "                        .merge(marketing_agg, on='customer_id', how='left') \\\n",
    "                        .merge(transactions_agg, on='customer_id', how='left')\n",
    "\n",
    "# Fill NaN values for no_response and yes_response with 0\n",
    "merged_df['no_response'] = merged_df['no_response'].fillna(0)\n",
    "merged_df['yes_response'] = merged_df['yes_response'].fillna(0)\n",
    "\n",
    "# Fill NaN values for total_transaction_amount and number_of_transactions with 0\n",
    "merged_df['total_transaction_amount'] = merged_df['total_transaction_amount'].fillna(0)\n",
    "merged_df['number_of_transactions'] = merged_df['number_of_transactions'].fillna(0)"
   ]
  },
  {
   "cell_type": "code",
   "execution_count": 6,
   "metadata": {},
   "outputs": [],
   "source": [
    "# Impute 'Unknown' for missing gender values\n",
    "merged_df['gender'] = merged_df['gender'].fillna('Unknown')"
   ]
  },
  {
   "cell_type": "code",
   "execution_count": 7,
   "metadata": {},
   "outputs": [],
   "source": [
    "# Impute missing age with KNNImputer\n",
    "from sklearn.impute import KNNImputer\n",
    "from sklearn.preprocessing import LabelEncoder\n",
    "\n",
    "# Convert date columns to numeric\n",
    "merged_df['join_date_numeric'] = merged_df['join_date'].astype('int64') // 10**9\n",
    "merged_df['last_purchase_date_numeric'] = merged_df['last_purchase_date'].astype('int64') // 10**9\n",
    "\n",
    "# Encode categorical variables\n",
    "le_gender = LabelEncoder()\n",
    "merged_df['gender_encoded'] = le_gender.fit_transform(merged_df['gender'])\n",
    "\n",
    "le_location = LabelEncoder()\n",
    "merged_df['location_encoded'] = le_location.fit_transform(merged_df['location'])\n",
    "\n",
    "# Prepare data for KNN imputation\n",
    "impute_cols = ['age', 'join_date_numeric', 'last_purchase_date_numeric', 'gender_encoded', 'location_encoded', 'number_of_transactions', 'total_transaction_amount']\n",
    "impute_data = merged_df[impute_cols]\n",
    "\n",
    "# Perform KNN imputation\n",
    "knn_imputer = KNNImputer(n_neighbors=5)\n",
    "imputed_data = knn_imputer.fit_transform(impute_data)\n",
    "\n",
    "# Assign imputed age values back to the dataframe\n",
    "merged_df['age'] = imputed_data[:, 0]\n",
    "\n",
    "# Drop intermediate columns\n",
    "merged_df = merged_df.drop(columns=['join_date_numeric', 'last_purchase_date_numeric', 'gender_encoded', 'location_encoded'])"
   ]
  },
  {
   "cell_type": "code",
   "execution_count": 8,
   "metadata": {},
   "outputs": [],
   "source": [
    "## Feature Engineering"
   ]
  },
  {
   "cell_type": "code",
   "execution_count": 9,
   "metadata": {},
   "outputs": [],
   "source": [
    "# Create AGE-GENDER feature\n",
    "# Split age into 5 groups: <20, 20-35, 35-50, 50-65, >65\n",
    "bins = [-np.inf, 20, 35, 50, 65, np.inf]\n",
    "labels = ['<20', '20-35', '35-50', '50-65', '>65']\n",
    "merged_df['age_group'] = pd.cut(merged_df['age'], bins=bins, labels=labels)\n",
    "\n",
    "# Create a new column 'age-gender'\n",
    "merged_df['age-gender'] = merged_df['age_group'].astype(str) + '-' + merged_df['gender']"
   ]
  },
  {
   "cell_type": "code",
   "execution_count": 10,
   "metadata": {},
   "outputs": [],
   "source": [
    "# Calculate Recency, Frequency, and Monetary (clv_monthly) Value (RFM) features\n",
    "import numpy as np\n",
    "\n",
    "# Define the cutoff date\n",
    "cutoff_date = pd.to_datetime('2024-05-31')\n",
    "\n",
    "# Calculate the joined month\n",
    "merged_df['joined_month'] = ((cutoff_date - merged_df['join_date']).dt.days / 30).astype(int)\n",
    "merged_df['joined_month'] = merged_df['joined_month'].apply(lambda x: 1 if x == 0 else x)\n",
    "\n",
    "# Calculate Recency (in months)\n",
    "merged_df['recency_months'] = (( merged_df['last_purchase_date'] - cutoff_date).dt.days / 30).astype(int)\n",
    "\n",
    "# Calculate Frequency\n",
    "merged_df['frequency'] = merged_df['number_of_transactions']\n",
    "\n",
    "# Calculate Monetary Value (transaction value per month (CLV), clv_monthly)\n",
    "merged_df['clv'] = merged_df['total_transaction_amount']\n",
    "merged_df['clv_monthly'] = merged_df['clv'] / merged_df['joined_month']\n",
    "\n",
    "# Fill any NaN values resulting from zero transactions or other calculations\n",
    "merged_df['recency_months'] = merged_df['recency_months'].fillna(0)\n",
    "merged_df['frequency'] = merged_df['frequency'].fillna(0)\n",
    "merged_df['clv_monthly'] = merged_df['clv_monthly'].fillna(0)"
   ]
  },
  {
   "cell_type": "code",
   "execution_count": 11,
   "metadata": {},
   "outputs": [],
   "source": [
    "# For marketing and engagement data\n",
    "# Calculate the number of 'yes_response' per month\n",
    "merged_df['yes_response_per_month'] = merged_df['yes_response'] / merged_df['joined_month']\n",
    "\n",
    "# Calculate the number of 'no_response' per month\n",
    "merged_df['no_response_per_month'] = merged_df['no_response'] / merged_df['joined_month']\n",
    "\n",
    "# Calculate the number of site visits per month\n",
    "merged_df['site_visits_per_month'] = merged_df['number_of_site_visits'] / merged_df['joined_month']\n",
    "\n",
    "# Calculate the number of emails opened per month\n",
    "merged_df['emails_opened_per_month'] = merged_df['number_of_emails_opened'] / merged_df['joined_month']\n",
    "\n",
    "# Calculate the number of clicks per month\n",
    "merged_df['clicks_per_month'] = merged_df['number_of_clicks'] / merged_df['joined_month']\n",
    "\n",
    "# Calculate the number of 'yes_respons' per emails opened \n",
    "merged_df['yes_response_per_emails_opened'] = merged_df['yes_response'] / merged_df['number_of_emails_opened']\n",
    "\n",
    "# Calculate the number of clicks per emails opened \n",
    "merged_df['clicks_per_emails_opened'] = merged_df['number_of_clicks'] / merged_df['number_of_emails_opened']"
   ]
  },
  {
   "cell_type": "code",
   "execution_count": 12,
   "metadata": {},
   "outputs": [],
   "source": [
    "# use the 80-20 rule, sorting the customer with clv_monthly\n",
    "# labelling the highest clv_monthly customers who cumulatively contribute 80% of the total monthly clv as 'High-Value'\n",
    "# other as ‘Low-Value’\n",
    "\n",
    "# Calculate the cumulative contribution of each customer to the total monthly CLV\n",
    "merged_df = merged_df.sort_values(by='clv_monthly', ascending=False)\n",
    "merged_df['cumulative_clv'] = merged_df['clv_monthly'].cumsum()\n",
    "total_clv = merged_df['clv_monthly'].sum()\n",
    "merged_df['cumulative_clv_percentage'] = merged_df['cumulative_clv'] / total_clv\n",
    "\n",
    "# Label customers based on their contribution to the total monthly CLV\n",
    "merged_df['value_label'] = np.where(merged_df['cumulative_clv_percentage'] <= 0.80, 'High-Value', 'Low-Value')\n",
    "\n",
    "# Convert CLV_label to binary\n",
    "merged_df['value_label'] = np.where(merged_df['value_label'] == 'High-Value', 1, 0)\n",
    "\n",
    "# Drop intermediate columns\n",
    "merged_df = merged_df.drop(columns=['cumulative_clv', 'cumulative_clv_percentage'])"
   ]
  },
  {
   "cell_type": "code",
   "execution_count": 13,
   "metadata": {},
   "outputs": [],
   "source": [
    "## Model"
   ]
  },
  {
   "cell_type": "code",
   "execution_count": 14,
   "metadata": {},
   "outputs": [],
   "source": [
    "# split data into X variables and y variable\n",
    "# Define the y variable\n",
    "y = merged_df['value_label']\n",
    "\n",
    "# Define the X variables\n",
    "X = merged_df[['age-gender', 'recency_months', 'frequency', 'yes_response_per_emails_opened','clicks_per_emails_opened','site_visits_per_month']]"
   ]
  },
  {
   "cell_type": "code",
   "execution_count": 15,
   "metadata": {},
   "outputs": [],
   "source": [
    "# Create Pipelines and check the F1 socre for each model\n",
    "from sklearn.compose import ColumnTransformer\n",
    "from sklearn.preprocessing import MinMaxScaler, OneHotEncoder\n",
    "from sklearn.model_selection import train_test_split\n",
    "from sklearn.pipeline import Pipeline\n",
    "from sklearn.neighbors import KNeighborsClassifier\n",
    "from sklearn.linear_model import LogisticRegression\n",
    "from sklearn.naive_bayes import GaussianNB\n",
    "from sklearn.model_selection import cross_val_score\n",
    "\n",
    "# Identify numerical and categorical columns\n",
    "numerical_cols = ['recency_months', 'frequency', 'yes_response_per_emails_opened','clicks_per_emails_opened', 'site_visits_per_month']\n",
    "categorical_cols = ['age-gender']\n",
    "\n",
    "# Define the ColumnTransformer\n",
    "preprocessor = ColumnTransformer(\n",
    "    transformers=[\n",
    "        ('num', MinMaxScaler(), numerical_cols),\n",
    "        ('cat', OneHotEncoder(drop='first'), categorical_cols)\n",
    "    ])\n",
    "\n",
    "# Fit and transform the data\n",
    "X_preprocessed = preprocessor.fit_transform(X)\n"
   ]
  },
  {
   "cell_type": "code",
   "execution_count": 16,
   "metadata": {},
   "outputs": [
    {
     "name": "stdout",
     "output_type": "stream",
     "text": [
      "Mean F1 score for KNeighborsClassifier: 0.6667\n",
      "Mean F1 score for LogisticRegression: 0.6963\n",
      "Mean F1 score for GaussianNB: 0.6550\n"
     ]
    }
   ],
   "source": [
    "from sklearn.model_selection import train_test_split, cross_val_score\n",
    "from sklearn.neighbors import KNeighborsClassifier\n",
    "from sklearn.linear_model import LogisticRegression\n",
    "from sklearn.naive_bayes import GaussianNB\n",
    "from sklearn.metrics import make_scorer, f1_score\n",
    "import numpy as np\n",
    "\n",
    "# Split the data into train and test sets\n",
    "X_train, X_test, y_train, y_test = train_test_split(X_preprocessed, y, test_size=0.3, random_state=42)\n",
    "\n",
    "# Define the models\n",
    "knn = KNeighborsClassifier()\n",
    "logreg = LogisticRegression(max_iter=1000)\n",
    "nb = GaussianNB()\n",
    "\n",
    "# Define the F1 scorer\n",
    "f1_scorer = make_scorer(f1_score)\n",
    "\n",
    "# Calculate the mean F1 score for each model using cross-validation\n",
    "knn_f1 = cross_val_score(knn, X_train, y_train, cv=5, scoring=f1_scorer).mean()\n",
    "logreg_f1 = cross_val_score(logreg, X_train, y_train, cv=5, scoring=f1_scorer).mean()\n",
    "nb_f1 = cross_val_score(nb, X_train, y_train, cv=5, scoring=f1_scorer).mean()\n",
    "\n",
    "print(f'Mean F1 score for KNeighborsClassifier: {knn_f1:.4f}')\n",
    "print(f'Mean F1 score for LogisticRegression: {logreg_f1:.4f}')\n",
    "print(f'Mean F1 score for GaussianNB: {nb_f1:.4f}')"
   ]
  },
  {
   "cell_type": "code",
   "execution_count": 17,
   "metadata": {},
   "outputs": [
    {
     "name": "stdout",
     "output_type": "stream",
     "text": [
      "Best parameters: {'metric': 'manhattan', 'n_neighbors': 15, 'weights': 'distance'}\n",
      "Best F1 score: 0.6812\n"
     ]
    }
   ],
   "source": [
    "#GridSearch to find the best combination of hyperparameters for KNN\n",
    "from sklearn.model_selection import GridSearchCV\n",
    "\n",
    "# Define the parameter grid for KNN\n",
    "param_grid = {\n",
    "    'n_neighbors': [3, 5, 7, 9, 11, 13, 15, 25, 25, 45],\n",
    "    'weights': ['uniform', 'distance'],\n",
    "    'metric': ['euclidean', 'manhattan', 'minkowski']\n",
    "}\n",
    "\n",
    "# Initialize the KNeighborsClassifier\n",
    "knn = KNeighborsClassifier()\n",
    "\n",
    "# Perform GridSearchCV\n",
    "grid_search = GridSearchCV(estimator=knn, param_grid=param_grid, cv=5, scoring='f1', n_jobs=-1)\n",
    "grid_search.fit(X_train, y_train)\n",
    "\n",
    "# Get the best parameters and the best F1 score\n",
    "best_params = grid_search.best_params_\n",
    "best_f1_score = grid_search.best_score_\n",
    "\n",
    "print(f'Best parameters: {best_params}')\n",
    "print(f'Best F1 score: {best_f1_score:.4f}')"
   ]
  },
  {
   "cell_type": "code",
   "execution_count": 18,
   "metadata": {},
   "outputs": [
    {
     "name": "stdout",
     "output_type": "stream",
     "text": [
      "Accuracy: 0.8483\n",
      "Precision: 0.7452\n",
      "Recall: 0.6926\n",
      "F1 Score: 0.7179\n",
      "ROC AUC Score: 0.9157\n",
      "\n",
      "Classification Report:\n",
      "              precision    recall  f1-score   support\n",
      "\n",
      "           0       0.88      0.91      0.90      2164\n",
      "           1       0.75      0.69      0.72       836\n",
      "\n",
      "    accuracy                           0.85      3000\n",
      "   macro avg       0.81      0.80      0.81      3000\n",
      "weighted avg       0.85      0.85      0.85      3000\n",
      "\n"
     ]
    },
    {
     "data": {
      "text/plain": [
       "<Figure size 1000x600 with 0 Axes>"
      ]
     },
     "metadata": {},
     "output_type": "display_data"
    },
    {
     "data": {
      "image/png": "[encoded data removed]",
      "text/plain": [
       "<Figure size 640x480 with 1 Axes>"
      ]
     },
     "metadata": {},
     "output_type": "display_data"
    },
    {
     "data": {
      "text/plain": [
       "<Figure size 800x600 with 0 Axes>"
      ]
     },
     "metadata": {},
     "output_type": "display_data"
    },
    {
     "data": {
      "image/png": "[encoded data removed]",
      "text/plain": [
       "<Figure size 640x480 with 2 Axes>"
      ]
     },
     "metadata": {},
     "output_type": "display_data"
    }
   ],
   "source": [
    "from sklearn.metrics import accuracy_score, precision_score, recall_score, f1_score, roc_auc_score, classification_report\n",
    "\n",
    "# Apply the best combination of hyperparameters\n",
    "best_knn = KNeighborsClassifier(**best_params)\n",
    "best_knn.fit(X_train, y_train)\n",
    "\n",
    "# Make predictions on the test set\n",
    "y_pred = best_knn.predict(X_test)\n",
    "\n",
    "# Evaluate the KNN model\n",
    "accuracy = accuracy_score(y_test, y_pred)\n",
    "precision = precision_score(y_test, y_pred)\n",
    "recall = recall_score(y_test, y_pred)\n",
    "f1 = f1_score(y_test, y_pred)\n",
    "roc_auc = roc_auc_score(y_test, best_knn.predict_proba(X_test)[:, 1])\n",
    "\n",
    "# Print the evaluation metrics\n",
    "print(f'Accuracy: {accuracy:.4f}')\n",
    "print(f'Precision: {precision:.4f}')\n",
    "print(f'Recall: {recall:.4f}')\n",
    "print(f'F1 Score: {f1:.4f}')\n",
    "print(f'ROC AUC Score: {roc_auc:.4f}')\n",
    "print('\\nClassification Report:')\n",
    "print(classification_report(y_test, y_pred))\n",
    "\n",
    "from sklearn.metrics import roc_curve, confusion_matrix, ConfusionMatrixDisplay, RocCurveDisplay\n",
    "import matplotlib.pyplot as plt\n",
    "\n",
    "# Generate the ROC curve\n",
    "fpr, tpr, thresholds = roc_curve(y_test, best_knn.predict_proba(X_test)[:, 1])\n",
    "\n",
    "# Plot the ROC curve\n",
    "plt.figure(figsize=(10, 6))\n",
    "roc_display = RocCurveDisplay(fpr=fpr, tpr=tpr, roc_auc=roc_auc)\n",
    "roc_display.plot()\n",
    "plt.title('ROC Curve')\n",
    "plt.show()\n",
    "\n",
    "# Generate the confusion matrix\n",
    "cm = confusion_matrix(y_test, y_pred)\n",
    "\n",
    "# Plot the confusion matrix\n",
    "plt.figure(figsize=(8, 6))\n",
    "cm_display = ConfusionMatrixDisplay(confusion_matrix=cm, display_labels=best_knn.classes_)\n",
    "cm_display.plot(cmap=plt.cm.Blues)\n",
    "plt.title('Confusion Matrix')\n",
    "plt.show()"
   ]
  }
 ],
 "metadata": {
  "kernelspec": {
   "display_name": "Python 3",
   "language": "python",
   "name": "python3"
  },
  "language_info": {
   "codemirror_mode": {
    "name": "ipython",
    "version": 3
   },
   "file_extension": ".py",
   "mimetype": "text/x-python",
   "name": "python",
   "nbconvert_exporter": "python",
   "pygments_lexer": "ipython3",
   "version": "3.12.0"
  }
 },
 "nbformat": 4,
 "nbformat_minor": 2
}
