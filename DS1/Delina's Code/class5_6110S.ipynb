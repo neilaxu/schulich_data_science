{
 "cells": [
  {
   "cell_type": "code",
   "execution_count": 2,
   "metadata": {},
   "outputs": [
    {
     "name": "stdout",
     "output_type": "stream",
     "text": [
      "Defaulting to user installation because normal site-packages is not writeable\n",
      "Requirement already satisfied: scipy in /Users/delinaivanova/Library/Python/3.9/lib/python/site-packages (1.13.0)\n",
      "Requirement already satisfied: numpy<2.3,>=1.22.4 in /Users/delinaivanova/Library/Python/3.9/lib/python/site-packages (from scipy) (1.26.4)\n",
      "\u001b[33mWARNING: You are using pip version 21.2.4; however, version 24.0 is available.\n",
      "You should consider upgrading via the '/Applications/Xcode.app/Contents/Developer/usr/bin/python3 -m pip install --upgrade pip' command.\u001b[0m\n",
      "Note: you may need to restart the kernel to use updated packages.\n"
     ]
    }
   ],
   "source": [
    "pip install scipy"
   ]
  },
  {
   "cell_type": "code",
   "execution_count": 3,
   "metadata": {},
   "outputs": [],
   "source": [
    "import numpy as np\n",
    "import pandas as pd\n",
    "import matplotlib.pyplot as plt\n",
    "import scipy.stats as stats\n",
    "import seaborn as sns"
   ]
  },
  {
   "cell_type": "code",
   "execution_count": 4,
   "metadata": {},
   "outputs": [],
   "source": [
    "# Normal Distribution\n",
    "np.random.seed(0)\n",
    "data = np.random.normal(loc=50000, scale=10000, size=1000)"
   ]
  },
  {
   "cell_type": "code",
   "execution_count": 5,
   "metadata": {},
   "outputs": [
    {
     "data": {
      "text/plain": [
       "<Axes: ylabel='Count'>"
      ]
     },
     "execution_count": 5,
     "metadata": {},
     "output_type": "execute_result"
    },
    {
     "data": {
      "image/png": "[encoded data removed]",
      "text/plain": [
       "<Figure size 640x480 with 1 Axes>"
      ]
     },
     "metadata": {},
     "output_type": "display_data"
    }
   ],
   "source": [
    "sns.histplot(data, kde=True)"
   ]
  },
  {
   "cell_type": "code",
   "execution_count": 6,
   "metadata": {},
   "outputs": [
    {
     "ename": "NameError",
     "evalue": "name 'arrivals' is not defined",
     "output_type": "error",
     "traceback": [
      "\u001b[0;31m---------------------------------------------------------------------------\u001b[0m",
      "\u001b[0;31mNameError\u001b[0m                                 Traceback (most recent call last)",
      "Cell \u001b[0;32mIn[6], line 1\u001b[0m\n\u001b[0;32m----> 1\u001b[0m stats\u001b[38;5;241m.\u001b[39mprobplot(\u001b[43marrivals\u001b[49m, dist\u001b[38;5;241m=\u001b[39m\u001b[38;5;124m'\u001b[39m\u001b[38;5;124mpoisson\u001b[39m\u001b[38;5;124m'\u001b[39m, sparams\u001b[38;5;241m=\u001b[39m\u001b[38;5;241m10\u001b[39m, plot\u001b[38;5;241m=\u001b[39mplt)\n",
      "\u001b[0;31mNameError\u001b[0m: name 'arrivals' is not defined"
     ]
    }
   ],
   "source": [
    "stats.probplot(arrivals, dist='poisson', sparams=10, plot=plt)"
   ]
  },
  {
   "cell_type": "code",
   "execution_count": 7,
   "metadata": {},
   "outputs": [
    {
     "ename": "NameError",
     "evalue": "name 'time_to_purchase' is not defined",
     "output_type": "error",
     "traceback": [
      "\u001b[0;31m---------------------------------------------------------------------------\u001b[0m",
      "\u001b[0;31mNameError\u001b[0m                                 Traceback (most recent call last)",
      "Cell \u001b[0;32mIn[7], line 2\u001b[0m\n\u001b[1;32m      1\u001b[0m \u001b[38;5;66;03m# QQ plot\u001b[39;00m\n\u001b[0;32m----> 2\u001b[0m stats\u001b[38;5;241m.\u001b[39mprobplot(\u001b[43mtime_to_purchase\u001b[49m, dist\u001b[38;5;241m=\u001b[39m\u001b[38;5;124m'\u001b[39m\u001b[38;5;124mnorm\u001b[39m\u001b[38;5;124m'\u001b[39m, plot\u001b[38;5;241m=\u001b[39mplt)\n",
      "\u001b[0;31mNameError\u001b[0m: name 'time_to_purchase' is not defined"
     ]
    }
   ],
   "source": [
    "# QQ plot\n",
    "stats.probplot(time_to_purchase, dist='norm', plot=plt)"
   ]
  },
  {
   "cell_type": "code",
   "execution_count": 8,
   "metadata": {},
   "outputs": [
    {
     "ename": "NameError",
     "evalue": "name 'time_to_purchase' is not defined",
     "output_type": "error",
     "traceback": [
      "\u001b[0;31m---------------------------------------------------------------------------\u001b[0m",
      "\u001b[0;31mNameError\u001b[0m                                 Traceback (most recent call last)",
      "Cell \u001b[0;32mIn[8], line 1\u001b[0m\n\u001b[0;32m----> 1\u001b[0m stats\u001b[38;5;241m.\u001b[39mprobplot(\u001b[43mtime_to_purchase\u001b[49m, dist\u001b[38;5;241m=\u001b[39m\u001b[38;5;124m'\u001b[39m\u001b[38;5;124mgamma\u001b[39m\u001b[38;5;124m'\u001b[39m, sparams\u001b[38;5;241m=\u001b[39m(fitted_shape, fitted_loc, fitted_scale), plot\u001b[38;5;241m=\u001b[39mplt)\n",
      "\u001b[0;31mNameError\u001b[0m: name 'time_to_purchase' is not defined"
     ]
    }
   ],
   "source": [
    "stats.probplot(time_to_purchase, dist='gamma', sparams=(fitted_shape, fitted_loc, fitted_scale), plot=plt)"
   ]
  },
  {
   "cell_type": "code",
   "execution_count": 9,
   "metadata": {},
   "outputs": [
    {
     "data": {
      "text/plain": [
       "49547.432925098045"
      ]
     },
     "execution_count": 9,
     "metadata": {},
     "output_type": "execute_result"
    }
   ],
   "source": [
    "data.mean()"
   ]
  },
  {
   "cell_type": "code",
   "execution_count": 10,
   "metadata": {},
   "outputs": [
    {
     "data": {
      "text/plain": [
       "9870.331586690258"
      ]
     },
     "execution_count": 10,
     "metadata": {},
     "output_type": "execute_result"
    }
   ],
   "source": [
    "data.std()"
   ]
  },
  {
   "cell_type": "code",
   "execution_count": 11,
   "metadata": {},
   "outputs": [],
   "source": [
    "# fit the distribution to data\n",
    "mu, std = stats.norm.fit(data)"
   ]
  },
  {
   "cell_type": "code",
   "execution_count": 12,
   "metadata": {},
   "outputs": [
    {
     "data": {
      "text/plain": [
       "49547.432925098045"
      ]
     },
     "execution_count": 12,
     "metadata": {},
     "output_type": "execute_result"
    }
   ],
   "source": [
    "mu"
   ]
  },
  {
   "cell_type": "code",
   "execution_count": 13,
   "metadata": {},
   "outputs": [
    {
     "data": {
      "text/plain": [
       "9870.331586690258"
      ]
     },
     "execution_count": 13,
     "metadata": {},
     "output_type": "execute_result"
    }
   ],
   "source": [
    "std"
   ]
  },
  {
   "cell_type": "code",
   "execution_count": 14,
   "metadata": {},
   "outputs": [
    {
     "data": {
      "text/plain": [
       "0.6884969221206169"
      ]
     },
     "execution_count": 14,
     "metadata": {},
     "output_type": "execute_result"
    }
   ],
   "source": [
    "# make predictions\n",
    "stats.norm.cdf(60000, mu, std) - stats.norm.cdf(40000, mu, std)"
   ]
  },
  {
   "cell_type": "code",
   "execution_count": 15,
   "metadata": {},
   "outputs": [],
   "source": [
    "# Poisson distribution\n",
    "arrivals = np.random.poisson(lam=10, size=1000)"
   ]
  },
  {
   "cell_type": "code",
   "execution_count": 16,
   "metadata": {},
   "outputs": [
    {
     "data": {
      "text/plain": [
       "(array([  1.,   5.,   9.,  16.,  43.,  65.,  83., 125., 118., 117., 112.,\n",
       "         80.,  77.,  57.,  31.,  27.,  15.,   9.,   5.,   2.,   1.,   1.,\n",
       "          0.,   1.]),\n",
       " array([ 1.        ,  1.95833333,  2.91666667,  3.875     ,  4.83333333,\n",
       "         5.79166667,  6.75      ,  7.70833333,  8.66666667,  9.625     ,\n",
       "        10.58333333, 11.54166667, 12.5       , 13.45833333, 14.41666667,\n",
       "        15.375     , 16.33333333, 17.29166667, 18.25      , 19.20833333,\n",
       "        20.16666667, 21.125     , 22.08333333, 23.04166667, 24.        ]),\n",
       " <BarContainer object of 24 artists>)"
      ]
     },
     "execution_count": 16,
     "metadata": {},
     "output_type": "execute_result"
    },
    {
     "data": {
      "image/png": "[encoded data removed]",
      "text/plain": [
       "<Figure size 640x480 with 1 Axes>"
      ]
     },
     "metadata": {},
     "output_type": "display_data"
    }
   ],
   "source": [
    "plt.hist(arrivals, bins=24)"
   ]
  },
  {
   "cell_type": "code",
   "execution_count": 17,
   "metadata": {},
   "outputs": [
    {
     "data": {
      "text/plain": [
       "<Axes: ylabel='Count'>"
      ]
     },
     "execution_count": 17,
     "metadata": {},
     "output_type": "execute_result"
    },
    {
     "data": {
      "image/png": "[encoded data removed]",
      "text/plain": [
       "<Figure size 640x480 with 1 Axes>"
      ]
     },
     "metadata": {},
     "output_type": "display_data"
    }
   ],
   "source": [
    "sns.histplot(arrivals)"
   ]
  },
  {
   "cell_type": "code",
   "execution_count": 18,
   "metadata": {},
   "outputs": [],
   "source": [
    "# gamma distribution\n",
    "\n",
    "time_to_purchase = np.random.gamma(shape=2, scale=1, size=1000)"
   ]
  },
  {
   "cell_type": "code",
   "execution_count": 19,
   "metadata": {},
   "outputs": [],
   "source": [
    "fitted_shape, fitted_loc, fitted_scale = stats.gamma.fit(data)\n"
   ]
  },
  {
   "cell_type": "code",
   "execution_count": 20,
   "metadata": {},
   "outputs": [
    {
     "data": {
      "text/plain": [
       "<Axes: ylabel='Count'>"
      ]
     },
     "execution_count": 20,
     "metadata": {},
     "output_type": "execute_result"
    },
    {
     "data": {
      "image/png": "[encoded data removed]",
      "text/plain": [
       "<Figure size 640x480 with 1 Axes>"
      ]
     },
     "metadata": {},
     "output_type": "display_data"
    }
   ],
   "source": [
    "sns.histplot(time_to_purchase, kde=True)"
   ]
  },
  {
   "cell_type": "code",
   "execution_count": 21,
   "metadata": {},
   "outputs": [
    {
     "data": {
      "text/plain": [
       "(array([187., 162., 120., 108.,  88.,  65.,  48.,  48.,  33.,  15.,  24.,\n",
       "         18.,  20.,  11.,   7.,   6.,   7.,   4.,   3.,   4.,   2.,   1.,\n",
       "          3.,   4.,   1.,   4.,   1.,   1.,   2.,   3.]),\n",
       " array([2.55388902e-02, 6.23024284e+00, 1.24349468e+01, 1.86396507e+01,\n",
       "        2.48443547e+01, 3.10490586e+01, 3.72537626e+01, 4.34584665e+01,\n",
       "        4.96631705e+01, 5.58678744e+01, 6.20725784e+01, 6.82772823e+01,\n",
       "        7.44819863e+01, 8.06866902e+01, 8.68913942e+01, 9.30960981e+01,\n",
       "        9.93008021e+01, 1.05505506e+02, 1.11710210e+02, 1.17914914e+02,\n",
       "        1.24119618e+02, 1.30324322e+02, 1.36529026e+02, 1.42733730e+02,\n",
       "        1.48938434e+02, 1.55143138e+02, 1.61347842e+02, 1.67552546e+02,\n",
       "        1.73757250e+02, 1.79961953e+02, 1.86166657e+02]),\n",
       " <BarContainer object of 30 artists>)"
      ]
     },
     "execution_count": 21,
     "metadata": {},
     "output_type": "execute_result"
    },
    {
     "data": {
      "image/png": "[encoded data removed]",
      "text/plain": [
       "<Figure size 640x480 with 1 Axes>"
      ]
     },
     "metadata": {},
     "output_type": "display_data"
    }
   ],
   "source": [
    "# Exponential distribution\n",
    "exp = np.random.exponential(scale=30, size=1000)\n",
    "\n",
    "plt.hist(exp, bins=30)"
   ]
  },
  {
   "cell_type": "code",
   "execution_count": 22,
   "metadata": {},
   "outputs": [
    {
     "data": {
      "text/plain": [
       "((array([6.93147181e-04, 1.68330207e-03, 2.68512296e-03, 3.68794851e-03,\n",
       "         4.69178072e-03, 5.69662163e-03, 6.70247325e-03, 7.70933763e-03,\n",
       "         8.71721682e-03, 9.72611284e-03, 1.07360278e-02, 1.17469636e-02,\n",
       "         1.27589226e-02, 1.37719066e-02, 1.47859178e-02, 1.58009582e-02,\n",
       "         1.68170300e-02, 1.78341353e-02, 1.88522761e-02, 1.98714545e-02,\n",
       "         2.08916728e-02, 2.19129330e-02, 2.29352372e-02, 2.39585876e-02,\n",
       "         2.49829863e-02, 2.60084354e-02, 2.70349372e-02, 2.80624938e-02,\n",
       "         2.90911074e-02, 3.01207801e-02, 3.11515141e-02, 3.21833116e-02,\n",
       "         3.32161748e-02, 3.42501059e-02, 3.52851071e-02, 3.63211807e-02,\n",
       "         3.73583289e-02, 3.83965538e-02, 3.94358578e-02, 4.04762430e-02,\n",
       "         4.15177118e-02, 4.25602664e-02, 4.36039090e-02, 4.46486419e-02,\n",
       "         4.56944675e-02, 4.67413879e-02, 4.77894056e-02, 4.88385227e-02,\n",
       "         4.98887416e-02, 5.09400647e-02, 5.19924942e-02, 5.30460325e-02,\n",
       "         5.41006818e-02, 5.51564447e-02, 5.62133233e-02, 5.72713202e-02,\n",
       "         5.83304376e-02, 5.93906779e-02, 6.04520435e-02, 6.15145367e-02,\n",
       "         6.25781601e-02, 6.36429160e-02, 6.47088068e-02, 6.57758350e-02,\n",
       "         6.68440029e-02, 6.79133130e-02, 6.89837677e-02, 7.00553696e-02,\n",
       "         7.11281210e-02, 7.22020244e-02, 7.32770824e-02, 7.43532973e-02,\n",
       "         7.54306718e-02, 7.65092082e-02, 7.75889091e-02, 7.86697770e-02,\n",
       "         7.97518145e-02, 8.08350241e-02, 8.19194082e-02, 8.30049695e-02,\n",
       "         8.40917106e-02, 8.51796339e-02, 8.62687422e-02, 8.73590378e-02,\n",
       "         8.84505235e-02, 8.95432019e-02, 9.06370755e-02, 9.17321469e-02,\n",
       "         9.28284189e-02, 9.39258940e-02, 9.50245749e-02, 9.61244642e-02,\n",
       "         9.72255645e-02, 9.83278787e-02, 9.94314093e-02, 1.00536159e-01,\n",
       "         1.01642130e-01, 1.02749327e-01, 1.03857750e-01, 1.04967403e-01,\n",
       "         1.06078289e-01, 1.07190410e-01, 1.08303770e-01, 1.09418371e-01,\n",
       "         1.10534215e-01, 1.11651306e-01, 1.12769646e-01, 1.13889238e-01,\n",
       "         1.15010085e-01, 1.16132190e-01, 1.17255555e-01, 1.18380184e-01,\n",
       "         1.19506078e-01, 1.20633242e-01, 1.21761678e-01, 1.22891389e-01,\n",
       "         1.24022377e-01, 1.25154646e-01, 1.26288199e-01, 1.27423037e-01,\n",
       "         1.28559165e-01, 1.29696586e-01, 1.30835301e-01, 1.31975315e-01,\n",
       "         1.33116630e-01, 1.34259249e-01, 1.35403175e-01, 1.36548411e-01,\n",
       "         1.37694960e-01, 1.38842826e-01, 1.39992010e-01, 1.41142516e-01,\n",
       "         1.42294348e-01, 1.43447508e-01, 1.44601999e-01, 1.45757825e-01,\n",
       "         1.46914988e-01, 1.48073492e-01, 1.49233339e-01, 1.50394533e-01,\n",
       "         1.51557077e-01, 1.52720975e-01, 1.53886228e-01, 1.55052841e-01,\n",
       "         1.56220816e-01, 1.57390157e-01, 1.58560868e-01, 1.59732950e-01,\n",
       "         1.60906408e-01, 1.62081244e-01, 1.63257462e-01, 1.64435065e-01,\n",
       "         1.65614057e-01, 1.66794440e-01, 1.67976219e-01, 1.69159395e-01,\n",
       "         1.70343973e-01, 1.71529956e-01, 1.72717348e-01, 1.73906150e-01,\n",
       "         1.75096368e-01, 1.76288004e-01, 1.77481062e-01, 1.78675545e-01,\n",
       "         1.79871456e-01, 1.81068799e-01, 1.82267578e-01, 1.83467795e-01,\n",
       "         1.84669455e-01, 1.85872560e-01, 1.87077115e-01, 1.88283122e-01,\n",
       "         1.89490586e-01, 1.90699509e-01, 1.91909895e-01, 1.93121749e-01,\n",
       "         1.94335072e-01, 1.95549870e-01, 1.96766145e-01, 1.97983901e-01,\n",
       "         1.99203142e-01, 2.00423872e-01, 2.01646093e-01, 2.02869810e-01,\n",
       "         2.04095026e-01, 2.05321746e-01, 2.06549972e-01, 2.07779708e-01,\n",
       "         2.09010959e-01, 2.10243727e-01, 2.11478017e-01, 2.12713832e-01,\n",
       "         2.13951177e-01, 2.15190054e-01, 2.16430468e-01, 2.17672423e-01,\n",
       "         2.18915922e-01, 2.20160969e-01, 2.21407568e-01, 2.22655723e-01,\n",
       "         2.23905438e-01, 2.25156717e-01, 2.26409564e-01, 2.27663982e-01,\n",
       "         2.28919975e-01, 2.30177549e-01, 2.31436705e-01, 2.32697449e-01,\n",
       "         2.33959785e-01, 2.35223716e-01, 2.36489246e-01, 2.37756381e-01,\n",
       "         2.39025123e-01, 2.40295476e-01, 2.41567446e-01, 2.42841035e-01,\n",
       "         2.44116249e-01, 2.45393090e-01, 2.46671565e-01, 2.47951675e-01,\n",
       "         2.49233427e-01, 2.50516823e-01, 2.51801869e-01, 2.53088568e-01,\n",
       "         2.54376925e-01, 2.55666944e-01, 2.56958630e-01, 2.58251986e-01,\n",
       "         2.59547016e-01, 2.60843726e-01, 2.62142120e-01, 2.63442202e-01,\n",
       "         2.64743976e-01, 2.66047447e-01, 2.67352619e-01, 2.68659497e-01,\n",
       "         2.69968086e-01, 2.71278388e-01, 2.72590410e-01, 2.73904156e-01,\n",
       "         2.75219630e-01, 2.76536836e-01, 2.77855780e-01, 2.79176466e-01,\n",
       "         2.80498898e-01, 2.81823081e-01, 2.83149021e-01, 2.84476720e-01,\n",
       "         2.85806185e-01, 2.87137420e-01, 2.88470429e-01, 2.89805217e-01,\n",
       "         2.91141790e-01, 2.92480151e-01, 2.93820306e-01, 2.95162259e-01,\n",
       "         2.96506016e-01, 2.97851581e-01, 2.99198958e-01, 3.00548154e-01,\n",
       "         3.01899172e-01, 3.03252018e-01, 3.04606697e-01, 3.05963214e-01,\n",
       "         3.07321573e-01, 3.08681779e-01, 3.10043839e-01, 3.11407756e-01,\n",
       "         3.12773536e-01, 3.14141184e-01, 3.15510704e-01, 3.16882103e-01,\n",
       "         3.18255386e-01, 3.19630557e-01, 3.21007621e-01, 3.22386584e-01,\n",
       "         3.23767452e-01, 3.25150229e-01, 3.26534921e-01, 3.27921533e-01,\n",
       "         3.29310070e-01, 3.30700538e-01, 3.32092942e-01, 3.33487287e-01,\n",
       "         3.34883580e-01, 3.36281824e-01, 3.37682027e-01, 3.39084193e-01,\n",
       "         3.40488327e-01, 3.41894436e-01, 3.43302525e-01, 3.44712600e-01,\n",
       "         3.46124666e-01, 3.47538728e-01, 3.48954793e-01, 3.50372866e-01,\n",
       "         3.51792952e-01, 3.53215058e-01, 3.54639190e-01, 3.56065352e-01,\n",
       "         3.57493552e-01, 3.58923794e-01, 3.60356084e-01, 3.61790429e-01,\n",
       "         3.63226834e-01, 3.64665306e-01, 3.66105849e-01, 3.67548471e-01,\n",
       "         3.68993177e-01, 3.70439973e-01, 3.71888866e-01, 3.73339860e-01,\n",
       "         3.74792964e-01, 3.76248181e-01, 3.77705520e-01, 3.79164985e-01,\n",
       "         3.80626584e-01, 3.82090322e-01, 3.83556205e-01, 3.85024241e-01,\n",
       "         3.86494435e-01, 3.87966794e-01, 3.89441323e-01, 3.90918030e-01,\n",
       "         3.92396921e-01, 3.93878003e-01, 3.95361281e-01, 3.96846762e-01,\n",
       "         3.98334454e-01, 3.99824362e-01, 4.01316493e-01, 4.02810854e-01,\n",
       "         4.04307451e-01, 4.05806292e-01, 4.07307382e-01, 4.08810729e-01,\n",
       "         4.10316340e-01, 4.11824221e-01, 4.13334379e-01, 4.14846821e-01,\n",
       "         4.16361554e-01, 4.17878585e-01, 4.19397920e-01, 4.20919568e-01,\n",
       "         4.22443535e-01, 4.23969827e-01, 4.25498453e-01, 4.27029419e-01,\n",
       "         4.28562732e-01, 4.30098400e-01, 4.31636430e-01, 4.33176830e-01,\n",
       "         4.34719605e-01, 4.36264765e-01, 4.37812315e-01, 4.39362265e-01,\n",
       "         4.40914620e-01, 4.42469389e-01, 4.44026579e-01, 4.45586198e-01,\n",
       "         4.47148253e-01, 4.48712752e-01, 4.50279702e-01, 4.51849111e-01,\n",
       "         4.53420988e-01, 4.54995339e-01, 4.56572172e-01, 4.58151496e-01,\n",
       "         4.59733318e-01, 4.61317646e-01, 4.62904488e-01, 4.64493853e-01,\n",
       "         4.66085747e-01, 4.67680180e-01, 4.69277158e-01, 4.70876692e-01,\n",
       "         4.72478788e-01, 4.74083454e-01, 4.75690700e-01, 4.77300533e-01,\n",
       "         4.78912962e-01, 4.80527995e-01, 4.82145641e-01, 4.83765908e-01,\n",
       "         4.85388804e-01, 4.87014338e-01, 4.88642519e-01, 4.90273355e-01,\n",
       "         4.91906855e-01, 4.93543028e-01, 4.95181883e-01, 4.96823427e-01,\n",
       "         4.98467671e-01, 5.00114622e-01, 5.01764291e-01, 5.03416685e-01,\n",
       "         5.05071815e-01, 5.06729688e-01, 5.08390315e-01, 5.10053704e-01,\n",
       "         5.11719864e-01, 5.13388805e-01, 5.15060536e-01, 5.16735066e-01,\n",
       "         5.18412405e-01, 5.20092563e-01, 5.21775548e-01, 5.23461370e-01,\n",
       "         5.25150039e-01, 5.26841564e-01, 5.28535956e-01, 5.30233223e-01,\n",
       "         5.31933376e-01, 5.33636425e-01, 5.35342379e-01, 5.37051248e-01,\n",
       "         5.38763042e-01, 5.40477771e-01, 5.42195446e-01, 5.43916077e-01,\n",
       "         5.45639673e-01, 5.47366244e-01, 5.49095803e-01, 5.50828357e-01,\n",
       "         5.52563919e-01, 5.54302498e-01, 5.56044105e-01, 5.57788750e-01,\n",
       "         5.59536445e-01, 5.61287199e-01, 5.63041024e-01, 5.64797930e-01,\n",
       "         5.66557929e-01, 5.68321030e-01, 5.70087246e-01, 5.71856586e-01,\n",
       "         5.73629063e-01, 5.75404686e-01, 5.77183469e-01, 5.78965421e-01,\n",
       "         5.80750554e-01, 5.82538879e-01, 5.84330408e-01, 5.86125153e-01,\n",
       "         5.87923124e-01, 5.89724334e-01, 5.91528795e-01, 5.93336517e-01,\n",
       "         5.95147513e-01, 5.96961794e-01, 5.98779374e-01, 6.00600262e-01,\n",
       "         6.02424473e-01, 6.04252017e-01, 6.06082908e-01, 6.07917156e-01,\n",
       "         6.09754776e-01, 6.11595778e-01, 6.13440176e-01, 6.15287982e-01,\n",
       "         6.17139209e-01, 6.18993869e-01, 6.20851975e-01, 6.22713540e-01,\n",
       "         6.24578578e-01, 6.26447100e-01, 6.28319120e-01, 6.30194651e-01,\n",
       "         6.32073706e-01, 6.33956298e-01, 6.35842442e-01, 6.37732150e-01,\n",
       "         6.39625435e-01, 6.41522312e-01, 6.43422794e-01, 6.45326895e-01,\n",
       "         6.47234628e-01, 6.49146007e-01, 6.51061047e-01, 6.52979761e-01,\n",
       "         6.54902164e-01, 6.56828270e-01, 6.58758092e-01, 6.60691646e-01,\n",
       "         6.62628946e-01, 6.64570007e-01, 6.66514842e-01, 6.68463467e-01,\n",
       "         6.70415897e-01, 6.72372146e-01, 6.74332230e-01, 6.76296163e-01,\n",
       "         6.78263960e-01, 6.80235638e-01, 6.82211210e-01, 6.84190694e-01,\n",
       "         6.86174103e-01, 6.88161454e-01, 6.90152763e-01, 6.92148045e-01,\n",
       "         6.94147316e-01, 6.96150592e-01, 6.98157889e-01, 7.00169223e-01,\n",
       "         7.02184612e-01, 7.04204070e-01, 7.06227614e-01, 7.08255262e-01,\n",
       "         7.10287029e-01, 7.12322933e-01, 7.14362990e-01, 7.16407218e-01,\n",
       "         7.18455633e-01, 7.20508253e-01, 7.22565094e-01, 7.24626175e-01,\n",
       "         7.26691513e-01, 7.28761125e-01, 7.30835029e-01, 7.32913243e-01,\n",
       "         7.34995786e-01, 7.37082674e-01, 7.39173927e-01, 7.41269562e-01,\n",
       "         7.43369598e-01, 7.45474053e-01, 7.47582946e-01, 7.49696297e-01,\n",
       "         7.51814123e-01, 7.53936443e-01, 7.56063278e-01, 7.58194645e-01,\n",
       "         7.60330566e-01, 7.62471057e-01, 7.64616141e-01, 7.66765836e-01,\n",
       "         7.68920162e-01, 7.71079139e-01, 7.73242787e-01, 7.75411127e-01,\n",
       "         7.77584179e-01, 7.79761963e-01, 7.81944500e-01, 7.84131811e-01,\n",
       "         7.86323917e-01, 7.88520839e-01, 7.90722598e-01, 7.92929216e-01,\n",
       "         7.95140713e-01, 7.97357112e-01, 7.99578434e-01, 8.01804702e-01,\n",
       "         8.04035937e-01, 8.06272161e-01, 8.08513397e-01, 8.10759668e-01,\n",
       "         8.13010996e-01, 8.15267404e-01, 8.17528914e-01, 8.19795551e-01,\n",
       "         8.22067337e-01, 8.24344296e-01, 8.26626451e-01, 8.28913826e-01,\n",
       "         8.31206445e-01, 8.33504333e-01, 8.35807513e-01, 8.38116010e-01,\n",
       "         8.40429848e-01, 8.42749053e-01, 8.45073649e-01, 8.47403661e-01,\n",
       "         8.49739115e-01, 8.52080035e-01, 8.54426449e-01, 8.56778381e-01,\n",
       "         8.59135858e-01, 8.61498906e-01, 8.63867551e-01, 8.66241820e-01,\n",
       "         8.68621739e-01, 8.71007336e-01, 8.73398638e-01, 8.75795671e-01,\n",
       "         8.78198465e-01, 8.80607045e-01, 8.83021441e-01, 8.85441680e-01,\n",
       "         8.87867791e-01, 8.90299803e-01, 8.92737743e-01, 8.95181641e-01,\n",
       "         8.97631527e-01, 9.00087430e-01, 9.02549378e-01, 9.05017403e-01,\n",
       "         9.07491534e-01, 9.09971802e-01, 9.12458237e-01, 9.14950869e-01,\n",
       "         9.17449730e-01, 9.19954852e-01, 9.22466264e-01, 9.24984000e-01,\n",
       "         9.27508090e-01, 9.30038568e-01, 9.32575466e-01, 9.35118815e-01,\n",
       "         9.37668650e-01, 9.40225003e-01, 9.42787907e-01, 9.45357397e-01,\n",
       "         9.47933507e-01, 9.50516270e-01, 9.53105720e-01, 9.55701894e-01,\n",
       "         9.58304825e-01, 9.60914549e-01, 9.63531101e-01, 9.66154518e-01,\n",
       "         9.68784835e-01, 9.71422089e-01, 9.74066317e-01, 9.76717555e-01,\n",
       "         9.79375841e-01, 9.82041212e-01, 9.84713706e-01, 9.87393362e-01,\n",
       "         9.90080217e-01, 9.92774311e-01, 9.95475683e-01, 9.98184372e-01,\n",
       "         1.00090042e+00, 1.00362386e+00, 1.00635474e+00, 1.00909310e+00,\n",
       "         1.01183898e+00, 1.01459242e+00, 1.01735346e+00, 1.02012214e+00,\n",
       "         1.02289851e+00, 1.02568262e+00, 1.02847449e+00, 1.03127418e+00,\n",
       "         1.03408173e+00, 1.03689719e+00, 1.03972059e+00, 1.04255199e+00,\n",
       "         1.04539143e+00, 1.04823896e+00, 1.05109461e+00, 1.05395845e+00,\n",
       "         1.05683051e+00, 1.05971084e+00, 1.06259949e+00, 1.06549651e+00,\n",
       "         1.06840195e+00, 1.07131585e+00, 1.07423827e+00, 1.07716925e+00,\n",
       "         1.08010885e+00, 1.08305712e+00, 1.08601411e+00, 1.08897986e+00,\n",
       "         1.09195444e+00, 1.09493789e+00, 1.09793027e+00, 1.10093163e+00,\n",
       "         1.10394203e+00, 1.10696151e+00, 1.10999014e+00, 1.11302797e+00,\n",
       "         1.11607506e+00, 1.11913146e+00, 1.12219723e+00, 1.12527243e+00,\n",
       "         1.12835712e+00, 1.13145134e+00, 1.13455518e+00, 1.13766868e+00,\n",
       "         1.14079190e+00, 1.14392490e+00, 1.14706776e+00, 1.15022052e+00,\n",
       "         1.15338325e+00, 1.15655602e+00, 1.15973888e+00, 1.16293191e+00,\n",
       "         1.16613517e+00, 1.16934872e+00, 1.17257263e+00, 1.17580697e+00,\n",
       "         1.17905181e+00, 1.18230720e+00, 1.18557323e+00, 1.18884996e+00,\n",
       "         1.19213746e+00, 1.19543581e+00, 1.19874507e+00, 1.20206532e+00,\n",
       "         1.20539663e+00, 1.20873908e+00, 1.21209273e+00, 1.21545767e+00,\n",
       "         1.21883397e+00, 1.22222171e+00, 1.22562096e+00, 1.22903181e+00,\n",
       "         1.23245433e+00, 1.23588861e+00, 1.23933472e+00, 1.24279274e+00,\n",
       "         1.24626277e+00, 1.24974488e+00, 1.25323916e+00, 1.25674569e+00,\n",
       "         1.26026456e+00, 1.26379585e+00, 1.26733966e+00, 1.27089608e+00,\n",
       "         1.27446518e+00, 1.27804707e+00, 1.28164184e+00, 1.28524957e+00,\n",
       "         1.28887037e+00, 1.29250433e+00, 1.29615154e+00, 1.29981210e+00,\n",
       "         1.30348611e+00, 1.30717367e+00, 1.31087487e+00, 1.31458983e+00,\n",
       "         1.31831864e+00, 1.32206140e+00, 1.32581823e+00, 1.32958922e+00,\n",
       "         1.33337448e+00, 1.33717413e+00, 1.34098828e+00, 1.34481702e+00,\n",
       "         1.34866048e+00, 1.35251877e+00, 1.35639201e+00, 1.36028030e+00,\n",
       "         1.36418377e+00, 1.36810254e+00, 1.37203673e+00, 1.37598645e+00,\n",
       "         1.37995184e+00, 1.38393301e+00, 1.38793010e+00, 1.39194323e+00,\n",
       "         1.39597253e+00, 1.40001813e+00, 1.40408016e+00, 1.40815876e+00,\n",
       "         1.41225406e+00, 1.41636621e+00, 1.42049533e+00, 1.42464157e+00,\n",
       "         1.42880508e+00, 1.43298600e+00, 1.43718446e+00, 1.44140063e+00,\n",
       "         1.44563465e+00, 1.44988668e+00, 1.45415686e+00, 1.45844535e+00,\n",
       "         1.46275231e+00, 1.46707791e+00, 1.47142229e+00, 1.47578563e+00,\n",
       "         1.48016810e+00, 1.48456985e+00, 1.48899107e+00, 1.49343192e+00,\n",
       "         1.49789258e+00, 1.50237322e+00, 1.50687403e+00, 1.51139520e+00,\n",
       "         1.51593689e+00, 1.52049931e+00, 1.52508263e+00, 1.52968706e+00,\n",
       "         1.53431279e+00, 1.53896002e+00, 1.54362894e+00, 1.54831977e+00,\n",
       "         1.55303270e+00, 1.55776795e+00, 1.56252573e+00, 1.56730625e+00,\n",
       "         1.57210974e+00, 1.57693641e+00, 1.58178649e+00, 1.58666021e+00,\n",
       "         1.59155780e+00, 1.59647950e+00, 1.60142553e+00, 1.60639616e+00,\n",
       "         1.61139161e+00, 1.61641214e+00, 1.62145800e+00, 1.62652946e+00,\n",
       "         1.63162676e+00, 1.63675019e+00, 1.64189999e+00, 1.64707646e+00,\n",
       "         1.65227985e+00, 1.65751047e+00, 1.66276859e+00, 1.66805450e+00,\n",
       "         1.67336851e+00, 1.67871090e+00, 1.68408199e+00, 1.68948208e+00,\n",
       "         1.69491149e+00, 1.70037054e+00, 1.70585955e+00, 1.71137887e+00,\n",
       "         1.71692881e+00, 1.72250972e+00, 1.72812196e+00, 1.73376588e+00,\n",
       "         1.73944182e+00, 1.74515017e+00, 1.75089129e+00, 1.75666556e+00,\n",
       "         1.76247337e+00, 1.76831511e+00, 1.77419117e+00, 1.78010196e+00,\n",
       "         1.78604790e+00, 1.79202941e+00, 1.79804691e+00, 1.80410083e+00,\n",
       "         1.81019164e+00, 1.81631976e+00, 1.82248568e+00, 1.82868984e+00,\n",
       "         1.83493274e+00, 1.84121486e+00, 1.84753669e+00, 1.85389875e+00,\n",
       "         1.86030154e+00, 1.86674558e+00, 1.87323143e+00, 1.87975961e+00,\n",
       "         1.88633069e+00, 1.89294524e+00, 1.89960383e+00, 1.90630705e+00,\n",
       "         1.91305551e+00, 1.91984983e+00, 1.92669062e+00, 1.93357853e+00,\n",
       "         1.94051421e+00, 1.94749833e+00, 1.95453157e+00, 1.96161463e+00,\n",
       "         1.96874822e+00, 1.97593306e+00, 1.98316990e+00, 1.99045949e+00,\n",
       "         1.99780261e+00, 2.00520006e+00, 2.01265263e+00, 2.02016116e+00,\n",
       "         2.02772649e+00, 2.03534950e+00, 2.04303106e+00, 2.05077208e+00,\n",
       "         2.05857350e+00, 2.06643626e+00, 2.07436133e+00, 2.08234971e+00,\n",
       "         2.09040241e+00, 2.09852050e+00, 2.10670502e+00, 2.11495708e+00,\n",
       "         2.12327781e+00, 2.13166835e+00, 2.14012989e+00, 2.14866364e+00,\n",
       "         2.15727084e+00, 2.16595277e+00, 2.17471074e+00, 2.18354608e+00,\n",
       "         2.19246019e+00, 2.20145447e+00, 2.21053038e+00, 2.21968942e+00,\n",
       "         2.22893313e+00, 2.23826308e+00, 2.24768090e+00, 2.25718825e+00,\n",
       "         2.26678687e+00, 2.27647851e+00, 2.28626500e+00, 2.29614821e+00,\n",
       "         2.30613008e+00, 2.31621259e+00, 2.32639779e+00, 2.33668780e+00,\n",
       "         2.34708479e+00, 2.35759102e+00, 2.36820881e+00, 2.37894054e+00,\n",
       "         2.38978869e+00, 2.40075582e+00, 2.41184456e+00, 2.42305764e+00,\n",
       "         2.43439788e+00, 2.44586819e+00, 2.45747161e+00, 2.46921124e+00,\n",
       "         2.48109034e+00, 2.49311224e+00, 2.50528043e+00, 2.51759851e+00,\n",
       "         2.53007022e+00, 2.54269945e+00, 2.55549021e+00, 2.56844669e+00,\n",
       "         2.58157325e+00, 2.59487442e+00, 2.60835489e+00, 2.62201957e+00,\n",
       "         2.63587357e+00, 2.64992219e+00, 2.66417100e+00, 2.67862578e+00,\n",
       "         2.69329256e+00, 2.70817766e+00, 2.72328768e+00, 2.73862953e+00,\n",
       "         2.75421041e+00, 2.77003791e+00, 2.78611995e+00, 2.80246486e+00,\n",
       "         2.81908137e+00, 2.83597866e+00, 2.85316638e+00, 2.87065469e+00,\n",
       "         2.88845430e+00, 2.90657648e+00, 2.92503315e+00, 2.94383688e+00,\n",
       "         2.96300098e+00, 2.98253953e+00, 3.00246745e+00, 3.02280059e+00,\n",
       "         3.04355576e+00, 3.06475085e+00, 3.08640492e+00, 3.10853829e+00,\n",
       "         3.13117265e+00, 3.15433121e+00, 3.17803884e+00, 3.20232219e+00,\n",
       "         3.22720993e+00, 3.25273291e+00, 3.27892442e+00, 3.30582041e+00,\n",
       "         3.33345984e+00, 3.36188498e+00, 3.39114180e+00, 3.42128045e+00,\n",
       "         3.45235573e+00, 3.48442775e+00, 3.51756257e+00, 3.55183303e+00,\n",
       "         3.58731977e+00, 3.62411229e+00, 3.66231039e+00, 3.70202572e+00,\n",
       "         3.74338383e+00, 3.78652651e+00, 3.83161473e+00, 3.87883228e+00,\n",
       "         3.92839030e+00, 3.98053296e+00, 4.03554476e+00, 4.09375995e+00,\n",
       "         4.15557477e+00, 4.22146390e+00, 4.29200257e+00, 4.36789712e+00,\n",
       "         4.45002822e+00, 4.53951332e+00, 4.63780008e+00, 4.74681071e+00,\n",
       "         4.86917520e+00, 5.00862804e+00, 5.17072894e+00, 5.36428806e+00,\n",
       "         5.60452834e+00, 5.92137102e+00, 6.38783943e+00, 7.27461475e+00]),\n",
       "  array([2.55388902e-02, 6.04184131e-02, 6.60793983e-02, 6.93680186e-02,\n",
       "         8.19136760e-02, 1.22870116e-01, 1.57143764e-01, 1.89370009e-01,\n",
       "         1.91292771e-01, 2.24994845e-01, 2.96136683e-01, 3.22320936e-01,\n",
       "         3.99335689e-01, 4.00529074e-01, 5.27778175e-01, 5.30574437e-01,\n",
       "         5.85769158e-01, 5.89653384e-01, 5.93907151e-01, 6.38455696e-01,\n",
       "         7.12578635e-01, 7.87173815e-01, 7.91250219e-01, 8.40761692e-01,\n",
       "         8.42413740e-01, 9.33683777e-01, 9.66499169e-01, 9.66773535e-01,\n",
       "         9.89420513e-01, 9.95014772e-01, 1.00950611e+00, 1.01586576e+00,\n",
       "         1.10939322e+00, 1.11850260e+00, 1.15625508e+00, 1.20769814e+00,\n",
       "         1.21920335e+00, 1.23268240e+00, 1.25939873e+00, 1.26935209e+00,\n",
       "         1.31529340e+00, 1.31784448e+00, 1.33253883e+00, 1.35538925e+00,\n",
       "         1.35684076e+00, 1.35810048e+00, 1.36418464e+00, 1.37095303e+00,\n",
       "         1.40146604e+00, 1.40215946e+00, 1.48665031e+00, 1.51419803e+00,\n",
       "         1.52274420e+00, 1.58338559e+00, 1.67349560e+00, 1.71315202e+00,\n",
       "         1.71381361e+00, 1.72243615e+00, 1.88663156e+00, 1.91674868e+00,\n",
       "         1.92305761e+00, 1.95298674e+00, 2.00791527e+00, 2.02315036e+00,\n",
       "         2.10178825e+00, 2.11212402e+00, 2.11240623e+00, 2.11847726e+00,\n",
       "         2.13607842e+00, 2.17319909e+00, 2.18624177e+00, 2.20038301e+00,\n",
       "         2.20758359e+00, 2.20936689e+00, 2.22978385e+00, 2.23109109e+00,\n",
       "         2.25094578e+00, 2.33900321e+00, 2.36109359e+00, 2.43801062e+00,\n",
       "         2.46033737e+00, 2.51968547e+00, 2.53093851e+00, 2.54267887e+00,\n",
       "         2.59998024e+00, 2.65520012e+00, 2.67885088e+00, 2.75809894e+00,\n",
       "         2.76068139e+00, 2.78993931e+00, 2.80813284e+00, 2.86440916e+00,\n",
       "         2.87010719e+00, 2.89964462e+00, 2.96251035e+00, 3.03784469e+00,\n",
       "         3.04163181e+00, 3.04566085e+00, 3.04658426e+00, 3.05812536e+00,\n",
       "         3.07398212e+00, 3.08888002e+00, 3.12298654e+00, 3.16293436e+00,\n",
       "         3.29713127e+00, 3.29770914e+00, 3.37818571e+00, 3.38975042e+00,\n",
       "         3.39994324e+00, 3.41159601e+00, 3.42315397e+00, 3.42872768e+00,\n",
       "         3.45657128e+00, 3.53061923e+00, 3.53127892e+00, 3.55556994e+00,\n",
       "         3.56253921e+00, 3.58099836e+00, 3.62047707e+00, 3.69508215e+00,\n",
       "         3.73999530e+00, 3.75671879e+00, 3.75877298e+00, 3.84824356e+00,\n",
       "         3.93259198e+00, 3.94216325e+00, 3.94726020e+00, 3.95864258e+00,\n",
       "         3.97390247e+00, 4.02431255e+00, 4.02486328e+00, 4.02998414e+00,\n",
       "         4.03378880e+00, 4.03443851e+00, 4.07992876e+00, 4.08813058e+00,\n",
       "         4.17457372e+00, 4.19137180e+00, 4.21652051e+00, 4.25748518e+00,\n",
       "         4.30964336e+00, 4.32952729e+00, 4.45827179e+00, 4.50488778e+00,\n",
       "         4.58159276e+00, 4.62144664e+00, 4.62790090e+00, 4.64380380e+00,\n",
       "         4.66247812e+00, 4.74403599e+00, 4.74541795e+00, 4.77352193e+00,\n",
       "         4.80416739e+00, 4.81714279e+00, 4.89030085e+00, 4.93057565e+00,\n",
       "         4.96899909e+00, 4.97168664e+00, 5.02547544e+00, 5.13774010e+00,\n",
       "         5.15040911e+00, 5.15423127e+00, 5.19121457e+00, 5.23381754e+00,\n",
       "         5.27366480e+00, 5.27749061e+00, 5.30039510e+00, 5.31675011e+00,\n",
       "         5.44064811e+00, 5.45388996e+00, 5.50420547e+00, 5.56610097e+00,\n",
       "         5.57066410e+00, 5.63092519e+00, 5.67355308e+00, 5.68739382e+00,\n",
       "         5.73213374e+00, 5.77901636e+00, 5.88099245e+00, 5.91370921e+00,\n",
       "         5.93118330e+00, 5.93233086e+00, 6.00927402e+00, 6.02159778e+00,\n",
       "         6.07990369e+00, 6.13749321e+00, 6.19744744e+00, 6.23337435e+00,\n",
       "         6.26034393e+00, 6.27424622e+00, 6.31156138e+00, 6.31436572e+00,\n",
       "         6.33693573e+00, 6.36163547e+00, 6.40252820e+00, 6.55795152e+00,\n",
       "         6.61079899e+00, 6.64945847e+00, 6.66574167e+00, 6.67915177e+00,\n",
       "         6.68506311e+00, 6.70562567e+00, 6.81663839e+00, 6.82553939e+00,\n",
       "         6.84439520e+00, 6.85026838e+00, 6.88123340e+00, 6.90897870e+00,\n",
       "         6.92673709e+00, 6.93975875e+00, 6.95086015e+00, 6.95321412e+00,\n",
       "         6.95536506e+00, 6.96602948e+00, 7.04013553e+00, 7.05135293e+00,\n",
       "         7.11087113e+00, 7.17423066e+00, 7.22550348e+00, 7.23680824e+00,\n",
       "         7.27165170e+00, 7.27979139e+00, 7.35165080e+00, 7.37240984e+00,\n",
       "         7.38117255e+00, 7.40602550e+00, 7.41907655e+00, 7.50382852e+00,\n",
       "         7.50804728e+00, 7.55314036e+00, 7.60959281e+00, 7.62365071e+00,\n",
       "         7.62398856e+00, 7.62834217e+00, 7.67082642e+00, 7.69162178e+00,\n",
       "         7.75045428e+00, 7.77171241e+00, 7.78028889e+00, 7.78469798e+00,\n",
       "         7.79872077e+00, 7.80049001e+00, 7.80809542e+00, 7.82989637e+00,\n",
       "         7.85205131e+00, 7.85467514e+00, 7.88239713e+00, 7.89248540e+00,\n",
       "         7.90370388e+00, 7.95230165e+00, 8.02967423e+00, 8.07695200e+00,\n",
       "         8.08664018e+00, 8.19317847e+00, 8.19851382e+00, 8.19868426e+00,\n",
       "         8.23711244e+00, 8.26418097e+00, 8.31650535e+00, 8.40566170e+00,\n",
       "         8.43977201e+00, 8.44467392e+00, 8.46185335e+00, 8.46651734e+00,\n",
       "         8.49419769e+00, 8.59216898e+00, 8.65070178e+00, 8.72698173e+00,\n",
       "         8.79998105e+00, 8.85754145e+00, 8.89687446e+00, 9.01753970e+00,\n",
       "         9.04298016e+00, 9.08568312e+00, 9.14028312e+00, 9.17475683e+00,\n",
       "         9.20912636e+00, 9.21854348e+00, 9.29565510e+00, 9.40284650e+00,\n",
       "         9.46875422e+00, 9.52680975e+00, 9.53641251e+00, 9.57272177e+00,\n",
       "         9.66255182e+00, 9.69346313e+00, 9.78346293e+00, 9.79100704e+00,\n",
       "         9.87253885e+00, 9.88387927e+00, 9.89950273e+00, 9.93801106e+00,\n",
       "         9.96161730e+00, 9.97202866e+00, 1.00241624e+01, 1.00437874e+01,\n",
       "         1.00655254e+01, 1.00944133e+01, 1.01584835e+01, 1.01755090e+01,\n",
       "         1.02109390e+01, 1.02842984e+01, 1.03716929e+01, 1.04169902e+01,\n",
       "         1.04181987e+01, 1.04520328e+01, 1.05276180e+01, 1.05926747e+01,\n",
       "         1.05987018e+01, 1.06487275e+01, 1.07103317e+01, 1.07512117e+01,\n",
       "         1.07644947e+01, 1.07942598e+01, 1.08526140e+01, 1.08654257e+01,\n",
       "         1.09004005e+01, 1.09572415e+01, 1.09603488e+01, 1.09612981e+01,\n",
       "         1.09817243e+01, 1.10004570e+01, 1.10401750e+01, 1.11085655e+01,\n",
       "         1.11443304e+01, 1.12069560e+01, 1.12320172e+01, 1.12650593e+01,\n",
       "         1.12654207e+01, 1.12939853e+01, 1.13041175e+01, 1.13203989e+01,\n",
       "         1.14871486e+01, 1.15399109e+01, 1.15709152e+01, 1.16068166e+01,\n",
       "         1.16703820e+01, 1.16836696e+01, 1.17481109e+01, 1.17643341e+01,\n",
       "         1.18142782e+01, 1.18291419e+01, 1.19511890e+01, 1.20277692e+01,\n",
       "         1.20332514e+01, 1.21448591e+01, 1.21542685e+01, 1.22127372e+01,\n",
       "         1.24154792e+01, 1.24694054e+01, 1.24832771e+01, 1.25608599e+01,\n",
       "         1.26305364e+01, 1.26533567e+01, 1.26662047e+01, 1.27684463e+01,\n",
       "         1.27805506e+01, 1.28653399e+01, 1.29027827e+01, 1.29810706e+01,\n",
       "         1.29977784e+01, 1.30678745e+01, 1.30845308e+01, 1.32306059e+01,\n",
       "         1.33022131e+01, 1.33721589e+01, 1.34042543e+01, 1.34268291e+01,\n",
       "         1.34488901e+01, 1.35194910e+01, 1.35940868e+01, 1.36432934e+01,\n",
       "         1.36483961e+01, 1.36630096e+01, 1.36977527e+01, 1.37509424e+01,\n",
       "         1.37653159e+01, 1.38386507e+01, 1.40208065e+01, 1.40592483e+01,\n",
       "         1.41036458e+01, 1.41788983e+01, 1.42035117e+01, 1.42160764e+01,\n",
       "         1.42284608e+01, 1.42385437e+01, 1.42725094e+01, 1.43688932e+01,\n",
       "         1.44612504e+01, 1.44871654e+01, 1.45606174e+01, 1.46543498e+01,\n",
       "         1.46764748e+01, 1.47157351e+01, 1.47525401e+01, 1.47553693e+01,\n",
       "         1.48103458e+01, 1.48255338e+01, 1.49036036e+01, 1.49599130e+01,\n",
       "         1.49910787e+01, 1.50151974e+01, 1.51654864e+01, 1.51808163e+01,\n",
       "         1.51984164e+01, 1.52348962e+01, 1.52378586e+01, 1.52400546e+01,\n",
       "         1.52715521e+01, 1.52811675e+01, 1.52927551e+01, 1.53878257e+01,\n",
       "         1.54139501e+01, 1.54235540e+01, 1.54724958e+01, 1.54909188e+01,\n",
       "         1.55470444e+01, 1.55974277e+01, 1.56184999e+01, 1.56873969e+01,\n",
       "         1.57322007e+01, 1.58103394e+01, 1.59338775e+01, 1.59904122e+01,\n",
       "         1.62252197e+01, 1.62390463e+01, 1.63266678e+01, 1.63287346e+01,\n",
       "         1.63938255e+01, 1.64696282e+01, 1.65802137e+01, 1.65822195e+01,\n",
       "         1.66079995e+01, 1.66184015e+01, 1.66228803e+01, 1.66747451e+01,\n",
       "         1.67336657e+01, 1.68060692e+01, 1.68117024e+01, 1.68960151e+01,\n",
       "         1.69263806e+01, 1.69471613e+01, 1.69569433e+01, 1.69878062e+01,\n",
       "         1.69957176e+01, 1.71512154e+01, 1.72655326e+01, 1.72765817e+01,\n",
       "         1.72834297e+01, 1.72978954e+01, 1.74268883e+01, 1.74805795e+01,\n",
       "         1.77353796e+01, 1.77852604e+01, 1.77944014e+01, 1.78055326e+01,\n",
       "         1.78384907e+01, 1.78870146e+01, 1.81707280e+01, 1.82305028e+01,\n",
       "         1.82900009e+01, 1.83634599e+01, 1.83749307e+01, 1.84048750e+01,\n",
       "         1.84251455e+01, 1.84793781e+01, 1.85951143e+01, 1.86009317e+01,\n",
       "         1.86117807e+01, 1.86576461e+01, 1.86635253e+01, 1.87444742e+01,\n",
       "         1.87820568e+01, 1.87971429e+01, 1.88577758e+01, 1.88792032e+01,\n",
       "         1.88957449e+01, 1.89637963e+01, 1.89846883e+01, 1.90873409e+01,\n",
       "         1.91538037e+01, 1.92700788e+01, 1.92829631e+01, 1.93799666e+01,\n",
       "         1.94101432e+01, 1.94130098e+01, 1.94261595e+01, 1.94502205e+01,\n",
       "         1.94909797e+01, 1.95416091e+01, 1.96085816e+01, 1.97234333e+01,\n",
       "         1.97289373e+01, 1.98371204e+01, 1.99068832e+01, 1.99116015e+01,\n",
       "         1.99448532e+01, 2.00764337e+01, 2.01472267e+01, 2.01499643e+01,\n",
       "         2.01879599e+01, 2.01959651e+01, 2.02256800e+01, 2.02444878e+01,\n",
       "         2.02851474e+01, 2.03418874e+01, 2.04350027e+01, 2.04446510e+01,\n",
       "         2.05578740e+01, 2.06721299e+01, 2.06920455e+01, 2.06943822e+01,\n",
       "         2.07352337e+01, 2.07465801e+01, 2.08414752e+01, 2.09576096e+01,\n",
       "         2.09953949e+01, 2.10412274e+01, 2.10516565e+01, 2.10918206e+01,\n",
       "         2.11044364e+01, 2.13506993e+01, 2.13625309e+01, 2.13880679e+01,\n",
       "         2.15204943e+01, 2.16176583e+01, 2.16835629e+01, 2.17496916e+01,\n",
       "         2.18022461e+01, 2.18516066e+01, 2.19810341e+01, 2.19947999e+01,\n",
       "         2.20064078e+01, 2.20126037e+01, 2.21009115e+01, 2.21559598e+01,\n",
       "         2.22229095e+01, 2.23160655e+01, 2.24197327e+01, 2.25851214e+01,\n",
       "         2.25911780e+01, 2.26795303e+01, 2.26967501e+01, 2.27053865e+01,\n",
       "         2.27296826e+01, 2.27628659e+01, 2.28991560e+01, 2.29166237e+01,\n",
       "         2.29576997e+01, 2.29962191e+01, 2.30388659e+01, 2.31123781e+01,\n",
       "         2.32241942e+01, 2.32540778e+01, 2.33771802e+01, 2.34156834e+01,\n",
       "         2.34162248e+01, 2.35430982e+01, 2.36903890e+01, 2.37250222e+01,\n",
       "         2.38182070e+01, 2.38277286e+01, 2.38891493e+01, 2.38901015e+01,\n",
       "         2.38935804e+01, 2.39182554e+01, 2.39771752e+01, 2.39984548e+01,\n",
       "         2.40161346e+01, 2.41030797e+01, 2.41060197e+01, 2.45640236e+01,\n",
       "         2.45770723e+01, 2.45891948e+01, 2.47047002e+01, 2.47273544e+01,\n",
       "         2.47384664e+01, 2.49788004e+01, 2.51240382e+01, 2.52202708e+01,\n",
       "         2.52662267e+01, 2.52914947e+01, 2.53047156e+01, 2.53999850e+01,\n",
       "         2.54621739e+01, 2.54926705e+01, 2.55305378e+01, 2.56411063e+01,\n",
       "         2.56645239e+01, 2.56787501e+01, 2.57032664e+01, 2.57390547e+01,\n",
       "         2.57675327e+01, 2.58504354e+01, 2.58956317e+01, 2.61035510e+01,\n",
       "         2.61228587e+01, 2.61643644e+01, 2.62425027e+01, 2.62432116e+01,\n",
       "         2.62996043e+01, 2.64791288e+01, 2.65625783e+01, 2.66821975e+01,\n",
       "         2.68186858e+01, 2.69224351e+01, 2.69634822e+01, 2.70127828e+01,\n",
       "         2.70183159e+01, 2.70216652e+01, 2.71045474e+01, 2.72489861e+01,\n",
       "         2.73502092e+01, 2.74380691e+01, 2.74966290e+01, 2.76059509e+01,\n",
       "         2.76354368e+01, 2.78917529e+01, 2.80533105e+01, 2.81026611e+01,\n",
       "         2.82063122e+01, 2.82669152e+01, 2.84320356e+01, 2.84377946e+01,\n",
       "         2.84557528e+01, 2.84558004e+01, 2.84973502e+01, 2.85058295e+01,\n",
       "         2.85974157e+01, 2.86037226e+01, 2.86636694e+01, 2.86752124e+01,\n",
       "         2.88616926e+01, 2.89078605e+01, 2.90675942e+01, 2.90775287e+01,\n",
       "         2.91247141e+01, 2.92950100e+01, 2.93698795e+01, 2.94868295e+01,\n",
       "         2.95944045e+01, 2.96356496e+01, 2.96527843e+01, 2.96563948e+01,\n",
       "         2.96620252e+01, 2.96976031e+01, 2.98243825e+01, 2.98293924e+01,\n",
       "         3.00288504e+01, 3.01664814e+01, 3.01853341e+01, 3.03104944e+01,\n",
       "         3.03358113e+01, 3.03648310e+01, 3.04063717e+01, 3.04076295e+01,\n",
       "         3.05550949e+01, 3.06205569e+01, 3.06468185e+01, 3.07581319e+01,\n",
       "         3.08385142e+01, 3.08523722e+01, 3.08728482e+01, 3.09336607e+01,\n",
       "         3.09391853e+01, 3.11418280e+01, 3.15282124e+01, 3.15807423e+01,\n",
       "         3.16473098e+01, 3.16963534e+01, 3.17870218e+01, 3.19376673e+01,\n",
       "         3.20841754e+01, 3.22304265e+01, 3.23080306e+01, 3.23487731e+01,\n",
       "         3.23620303e+01, 3.23933510e+01, 3.24322169e+01, 3.24780249e+01,\n",
       "         3.24841216e+01, 3.25601665e+01, 3.25975096e+01, 3.27112180e+01,\n",
       "         3.27365104e+01, 3.27639387e+01, 3.28082789e+01, 3.28189340e+01,\n",
       "         3.28198363e+01, 3.28446358e+01, 3.29432643e+01, 3.32751284e+01,\n",
       "         3.32853830e+01, 3.33970171e+01, 3.35068479e+01, 3.35785919e+01,\n",
       "         3.38753813e+01, 3.38911272e+01, 3.40075116e+01, 3.41415484e+01,\n",
       "         3.41579760e+01, 3.42263005e+01, 3.43200379e+01, 3.44134926e+01,\n",
       "         3.45635683e+01, 3.45821091e+01, 3.48445639e+01, 3.48855505e+01,\n",
       "         3.49260339e+01, 3.49634236e+01, 3.51562960e+01, 3.52029070e+01,\n",
       "         3.52036082e+01, 3.54246871e+01, 3.54262794e+01, 3.55531720e+01,\n",
       "         3.55996039e+01, 3.56945093e+01, 3.58364898e+01, 3.59535158e+01,\n",
       "         3.59890946e+01, 3.60898942e+01, 3.61943701e+01, 3.64353120e+01,\n",
       "         3.66556274e+01, 3.67491092e+01, 3.69307101e+01, 3.69698273e+01,\n",
       "         3.69779863e+01, 3.71281463e+01, 3.73790142e+01, 3.74749877e+01,\n",
       "         3.75271605e+01, 3.75728634e+01, 3.77628613e+01, 3.78967809e+01,\n",
       "         3.79391838e+01, 3.80327115e+01, 3.80629642e+01, 3.81414306e+01,\n",
       "         3.84015978e+01, 3.84827708e+01, 3.85868543e+01, 3.88252897e+01,\n",
       "         3.88654046e+01, 3.88900929e+01, 3.90149528e+01, 3.91646879e+01,\n",
       "         3.92718008e+01, 3.93582543e+01, 3.94662208e+01, 3.96681017e+01,\n",
       "         3.96992232e+01, 3.99578426e+01, 4.00443934e+01, 4.00689764e+01,\n",
       "         4.01232962e+01, 4.06139336e+01, 4.07366241e+01, 4.07425657e+01,\n",
       "         4.07719537e+01, 4.09409987e+01, 4.09448525e+01, 4.09936860e+01,\n",
       "         4.12482626e+01, 4.14522922e+01, 4.16773441e+01, 4.19459953e+01,\n",
       "         4.19725983e+01, 4.21530397e+01, 4.22692598e+01, 4.23697614e+01,\n",
       "         4.24389008e+01, 4.25016380e+01, 4.26481304e+01, 4.28782452e+01,\n",
       "         4.30134238e+01, 4.30775732e+01, 4.34763790e+01, 4.34985962e+01,\n",
       "         4.35843415e+01, 4.39098524e+01, 4.41310877e+01, 4.42241014e+01,\n",
       "         4.42589124e+01, 4.44052543e+01, 4.44074054e+01, 4.44379270e+01,\n",
       "         4.44478690e+01, 4.45138461e+01, 4.45345175e+01, 4.48873820e+01,\n",
       "         4.49039608e+01, 4.51372823e+01, 4.52319057e+01, 4.54903882e+01,\n",
       "         4.57167110e+01, 4.57815162e+01, 4.57925648e+01, 4.59801648e+01,\n",
       "         4.61114500e+01, 4.61259207e+01, 4.61542776e+01, 4.62782793e+01,\n",
       "         4.62989794e+01, 4.64803300e+01, 4.68115339e+01, 4.68349154e+01,\n",
       "         4.68855430e+01, 4.71284223e+01, 4.72907678e+01, 4.75100425e+01,\n",
       "         4.75403315e+01, 4.76027803e+01, 4.76983338e+01, 4.79840356e+01,\n",
       "         4.83083297e+01, 4.87538085e+01, 4.87648816e+01, 4.88882917e+01,\n",
       "         4.91381606e+01, 4.91622355e+01, 4.92748644e+01, 4.95321086e+01,\n",
       "         4.95351154e+01, 4.96324911e+01, 4.99273476e+01, 4.99772900e+01,\n",
       "         5.02441285e+01, 5.04492817e+01, 5.08221365e+01, 5.08750354e+01,\n",
       "         5.09074817e+01, 5.10166686e+01, 5.14068030e+01, 5.16188065e+01,\n",
       "         5.17948343e+01, 5.19905918e+01, 5.20707143e+01, 5.22947593e+01,\n",
       "         5.23330892e+01, 5.30029143e+01, 5.30516452e+01, 5.31968445e+01,\n",
       "         5.32013747e+01, 5.32337542e+01, 5.33233724e+01, 5.36203843e+01,\n",
       "         5.38333763e+01, 5.43366271e+01, 5.43501574e+01, 5.43840620e+01,\n",
       "         5.44778726e+01, 5.48600862e+01, 5.52434846e+01, 5.54787664e+01,\n",
       "         5.54992704e+01, 5.57914775e+01, 5.58069411e+01, 5.77424190e+01,\n",
       "         5.81627154e+01, 5.83467058e+01, 5.90737001e+01, 5.90784820e+01,\n",
       "         5.96929698e+01, 5.97363483e+01, 6.00170213e+01, 6.01356787e+01,\n",
       "         6.01358453e+01, 6.03840920e+01, 6.07300324e+01, 6.10613450e+01,\n",
       "         6.19380379e+01, 6.20531976e+01, 6.24229868e+01, 6.24367586e+01,\n",
       "         6.31815654e+01, 6.31831255e+01, 6.33733759e+01, 6.34493501e+01,\n",
       "         6.37908332e+01, 6.40843114e+01, 6.46397163e+01, 6.48222843e+01,\n",
       "         6.54302575e+01, 6.54317914e+01, 6.54843377e+01, 6.55842252e+01,\n",
       "         6.60806480e+01, 6.66061083e+01, 6.66200181e+01, 6.67129522e+01,\n",
       "         6.68940525e+01, 6.74894368e+01, 6.75808020e+01, 6.75932588e+01,\n",
       "         6.76464521e+01, 6.79891838e+01, 7.07796694e+01, 7.08104506e+01,\n",
       "         7.08502955e+01, 7.09792238e+01, 7.10018568e+01, 7.14223249e+01,\n",
       "         7.20555341e+01, 7.23465213e+01, 7.23657686e+01, 7.29061266e+01,\n",
       "         7.32505793e+01, 7.34557090e+01, 7.35354165e+01, 7.36346267e+01,\n",
       "         7.38909524e+01, 7.39747813e+01, 7.41872729e+01, 7.41981475e+01,\n",
       "         7.47760852e+01, 7.51870551e+01, 7.56504029e+01, 7.58201679e+01,\n",
       "         7.59526276e+01, 7.62527680e+01, 7.64188273e+01, 7.72074413e+01,\n",
       "         7.76942153e+01, 7.78654113e+01, 7.78834306e+01, 7.79622542e+01,\n",
       "         7.83374790e+01, 7.84151269e+01, 7.84640171e+01, 7.90022557e+01,\n",
       "         7.90717854e+01, 7.95338093e+01, 7.97011406e+01, 8.06726030e+01,\n",
       "         8.07585669e+01, 8.20679712e+01, 8.21511726e+01, 8.29192576e+01,\n",
       "         8.31585759e+01, 8.31611640e+01, 8.34593775e+01, 8.37570199e+01,\n",
       "         8.39569793e+01, 8.53388390e+01, 8.62006109e+01, 8.76005735e+01,\n",
       "         8.82268157e+01, 8.98392667e+01, 8.99196161e+01, 9.14653405e+01,\n",
       "         9.26388112e+01, 9.26560780e+01, 9.43434073e+01, 9.44722442e+01,\n",
       "         9.46944252e+01, 9.70902030e+01, 9.73465372e+01, 9.79443831e+01,\n",
       "         1.00002362e+02, 1.02397716e+02, 1.02721773e+02, 1.02877427e+02,\n",
       "         1.04634286e+02, 1.04752137e+02, 1.05123419e+02, 1.08472179e+02,\n",
       "         1.09062431e+02, 1.09285374e+02, 1.10940315e+02, 1.14196368e+02,\n",
       "         1.17109064e+02, 1.17808413e+02, 1.20477413e+02, 1.21049818e+02,\n",
       "         1.21075206e+02, 1.21685303e+02, 1.26089082e+02, 1.28310118e+02,\n",
       "         1.31355029e+02, 1.36615684e+02, 1.40986081e+02, 1.41117975e+02,\n",
       "         1.43695659e+02, 1.45291916e+02, 1.47167721e+02, 1.48375633e+02,\n",
       "         1.52069548e+02, 1.56259954e+02, 1.58643840e+02, 1.59446006e+02,\n",
       "         1.59968019e+02, 1.63156464e+02, 1.70087953e+02, 1.77262525e+02,\n",
       "         1.77841291e+02, 1.82323649e+02, 1.83761589e+02, 1.86166657e+02])),\n",
       " (31.04008299956802, -1.3830715461725411, 0.9962066927168091))"
      ]
     },
     "execution_count": 22,
     "metadata": {},
     "output_type": "execute_result"
    },
    {
     "data": {
      "image/png": "[encoded data removed]",
      "text/plain": [
       "<Figure size 640x480 with 1 Axes>"
      ]
     },
     "metadata": {},
     "output_type": "display_data"
    }
   ],
   "source": [
    "stats.probplot(exp, dist='expon', plot=plt)"
   ]
  },
  {
   "cell_type": "code",
   "execution_count": 23,
   "metadata": {},
   "outputs": [],
   "source": [
    "# statistical testing\n",
    "from scipy.stats import ttest_ind, mannwhitneyu"
   ]
  },
  {
   "cell_type": "code",
   "execution_count": 24,
   "metadata": {},
   "outputs": [],
   "source": [
    "group_a = np.random.normal(30000, 5000, 1000)\n",
    "group_b = np.random.normal(35000, 5000, 1000)"
   ]
  },
  {
   "cell_type": "code",
   "execution_count": 25,
   "metadata": {},
   "outputs": [],
   "source": [
    "t_stat, p_value = ttest_ind(group_a, group_b)"
   ]
  },
  {
   "cell_type": "code",
   "execution_count": 26,
   "metadata": {},
   "outputs": [
    {
     "name": "stdout",
     "output_type": "stream",
     "text": [
      "8.875756950508388e-104\n"
     ]
    }
   ],
   "source": [
    "print(p_value)"
   ]
  },
  {
   "cell_type": "code",
   "execution_count": 27,
   "metadata": {},
   "outputs": [],
   "source": [
    "# import data\n",
    "df = pd.read_csv('https://raw.githubusercontent.com/delinai/schulich_ds1_2024/main/Datasets/class_5_data.csv')"
   ]
  },
  {
   "cell_type": "code",
   "execution_count": 28,
   "metadata": {},
   "outputs": [],
   "source": [
    "df.drop('Unnamed: 0', axis=1, inplace=True)"
   ]
  },
  {
   "cell_type": "code",
   "execution_count": 29,
   "metadata": {},
   "outputs": [
    {
     "data": {
      "text/html": [
       "<div>\n",
       "<style scoped>\n",
       "    .dataframe tbody tr th:only-of-type {\n",
       "        vertical-align: middle;\n",
       "    }\n",
       "\n",
       "    .dataframe tbody tr th {\n",
       "        vertical-align: top;\n",
       "    }\n",
       "\n",
       "    .dataframe thead th {\n",
       "        text-align: right;\n",
       "    }\n",
       "</style>\n",
       "<table border=\"1\" class=\"dataframe\">\n",
       "  <thead>\n",
       "    <tr style=\"text-align: right;\">\n",
       "      <th></th>\n",
       "      <th>Customer_ID</th>\n",
       "      <th>Age</th>\n",
       "      <th>Campaign_Exposure</th>\n",
       "      <th>Purchase_Amount</th>\n",
       "      <th>Premium_Product</th>\n",
       "    </tr>\n",
       "  </thead>\n",
       "  <tbody>\n",
       "    <tr>\n",
       "      <th>count</th>\n",
       "      <td>10034.000000</td>\n",
       "      <td>10034.000000</td>\n",
       "      <td>10034.000000</td>\n",
       "      <td>10034.000000</td>\n",
       "      <td>10034.000000</td>\n",
       "    </tr>\n",
       "    <tr>\n",
       "      <th>mean</th>\n",
       "      <td>499.098366</td>\n",
       "      <td>34.550827</td>\n",
       "      <td>0.624277</td>\n",
       "      <td>55.894060</td>\n",
       "      <td>0.269085</td>\n",
       "    </tr>\n",
       "    <tr>\n",
       "      <th>std</th>\n",
       "      <td>290.841403</td>\n",
       "      <td>9.838315</td>\n",
       "      <td>0.484333</td>\n",
       "      <td>22.738743</td>\n",
       "      <td>0.443506</td>\n",
       "    </tr>\n",
       "    <tr>\n",
       "      <th>min</th>\n",
       "      <td>1.000000</td>\n",
       "      <td>2.000000</td>\n",
       "      <td>0.000000</td>\n",
       "      <td>-37.297202</td>\n",
       "      <td>0.000000</td>\n",
       "    </tr>\n",
       "    <tr>\n",
       "      <th>25%</th>\n",
       "      <td>247.250000</td>\n",
       "      <td>28.000000</td>\n",
       "      <td>0.000000</td>\n",
       "      <td>40.241688</td>\n",
       "      <td>0.000000</td>\n",
       "    </tr>\n",
       "    <tr>\n",
       "      <th>50%</th>\n",
       "      <td>497.000000</td>\n",
       "      <td>35.000000</td>\n",
       "      <td>1.000000</td>\n",
       "      <td>55.494446</td>\n",
       "      <td>0.000000</td>\n",
       "    </tr>\n",
       "    <tr>\n",
       "      <th>75%</th>\n",
       "      <td>752.000000</td>\n",
       "      <td>41.000000</td>\n",
       "      <td>1.000000</td>\n",
       "      <td>70.915768</td>\n",
       "      <td>1.000000</td>\n",
       "    </tr>\n",
       "    <tr>\n",
       "      <th>max</th>\n",
       "      <td>1000.000000</td>\n",
       "      <td>73.000000</td>\n",
       "      <td>1.000000</td>\n",
       "      <td>139.624489</td>\n",
       "      <td>1.000000</td>\n",
       "    </tr>\n",
       "  </tbody>\n",
       "</table>\n",
       "</div>"
      ],
      "text/plain": [
       "        Customer_ID           Age  Campaign_Exposure  Purchase_Amount  \\\n",
       "count  10034.000000  10034.000000       10034.000000     10034.000000   \n",
       "mean     499.098366     34.550827           0.624277        55.894060   \n",
       "std      290.841403      9.838315           0.484333        22.738743   \n",
       "min        1.000000      2.000000           0.000000       -37.297202   \n",
       "25%      247.250000     28.000000           0.000000        40.241688   \n",
       "50%      497.000000     35.000000           1.000000        55.494446   \n",
       "75%      752.000000     41.000000           1.000000        70.915768   \n",
       "max     1000.000000     73.000000           1.000000       139.624489   \n",
       "\n",
       "       Premium_Product  \n",
       "count     10034.000000  \n",
       "mean          0.269085  \n",
       "std           0.443506  \n",
       "min           0.000000  \n",
       "25%           0.000000  \n",
       "50%           0.000000  \n",
       "75%           1.000000  \n",
       "max           1.000000  "
      ]
     },
     "execution_count": 29,
     "metadata": {},
     "output_type": "execute_result"
    }
   ],
   "source": [
    "df.describe()"
   ]
  },
  {
   "cell_type": "code",
   "execution_count": 30,
   "metadata": {},
   "outputs": [
    {
     "name": "stdout",
     "output_type": "stream",
     "text": [
      "<class 'pandas.core.frame.DataFrame'>\n",
      "RangeIndex: 10034 entries, 0 to 10033\n",
      "Data columns (total 7 columns):\n",
      " #   Column                Non-Null Count  Dtype  \n",
      "---  ------                --------------  -----  \n",
      " 0   Customer_ID           10034 non-null  int64  \n",
      " 1   Age                   10034 non-null  int64  \n",
      " 2   Gender                10034 non-null  object \n",
      " 3   Campaign_Exposure     10034 non-null  int64  \n",
      " 4   Transaction_Category  10034 non-null  object \n",
      " 5   Purchase_Amount       10034 non-null  float64\n",
      " 6   Premium_Product       10034 non-null  int64  \n",
      "dtypes: float64(1), int64(4), object(2)\n",
      "memory usage: 548.9+ KB\n"
     ]
    }
   ],
   "source": [
    "df.info()"
   ]
  },
  {
   "cell_type": "code",
   "execution_count": 31,
   "metadata": {},
   "outputs": [
    {
     "data": {
      "text/plain": [
       "1000"
      ]
     },
     "execution_count": 31,
     "metadata": {},
     "output_type": "execute_result"
    }
   ],
   "source": [
    "df['Customer_ID'].nunique()"
   ]
  },
  {
   "cell_type": "code",
   "execution_count": 32,
   "metadata": {},
   "outputs": [
    {
     "data": {
      "text/plain": [
       "(array([  9.,  20.,  80., 150., 211., 247., 156.,  97.,  26.,   4.]),\n",
       " array([28.81281312, 33.92248665, 39.03216018, 44.14183371, 49.25150723,\n",
       "        54.36118076, 59.47085429, 64.58052782, 69.69020135, 74.79987488,\n",
       "        79.90954841]),\n",
       " <BarContainer object of 10 artists>)"
      ]
     },
     "execution_count": 32,
     "metadata": {},
     "output_type": "execute_result"
    },
    {
     "data": {
      "image/png": "[encoded data removed]",
      "text/plain": [
       "<Figure size 640x480 with 1 Axes>"
      ]
     },
     "metadata": {},
     "output_type": "display_data"
    }
   ],
   "source": [
    "plt.hist(df.groupby('Customer_ID')['Purchase_Amount'].mean())"
   ]
  },
  {
   "cell_type": "code",
   "execution_count": 33,
   "metadata": {},
   "outputs": [
    {
     "data": {
      "text/plain": [
       "(array([ 76.,  88.,  79.,  89.,  83., 165.,  75.,  98.,  76., 171.]),\n",
       " array([ 5.,  6.,  7.,  8.,  9., 10., 11., 12., 13., 14., 15.]),\n",
       " <BarContainer object of 10 artists>)"
      ]
     },
     "execution_count": 33,
     "metadata": {},
     "output_type": "execute_result"
    },
    {
     "data": {
      "image/png": "[encoded data removed]",
      "text/plain": [
       "<Figure size 640x480 with 1 Axes>"
      ]
     },
     "metadata": {},
     "output_type": "display_data"
    }
   ],
   "source": [
    "plt.hist(df.groupby('Customer_ID')['Purchase_Amount'].count())"
   ]
  },
  {
   "cell_type": "code",
   "execution_count": 34,
   "metadata": {},
   "outputs": [
    {
     "data": {
      "text/html": [
       "<div>\n",
       "<style scoped>\n",
       "    .dataframe tbody tr th:only-of-type {\n",
       "        vertical-align: middle;\n",
       "    }\n",
       "\n",
       "    .dataframe tbody tr th {\n",
       "        vertical-align: top;\n",
       "    }\n",
       "\n",
       "    .dataframe thead th {\n",
       "        text-align: right;\n",
       "    }\n",
       "</style>\n",
       "<table border=\"1\" class=\"dataframe\">\n",
       "  <thead>\n",
       "    <tr style=\"text-align: right;\">\n",
       "      <th></th>\n",
       "      <th>Customer_ID</th>\n",
       "      <th>Age</th>\n",
       "      <th>Gender</th>\n",
       "      <th>Campaign_Exposure</th>\n",
       "      <th>Transaction_Category</th>\n",
       "      <th>Purchase_Amount</th>\n",
       "      <th>Premium_Product</th>\n",
       "    </tr>\n",
       "  </thead>\n",
       "  <tbody>\n",
       "    <tr>\n",
       "      <th>0</th>\n",
       "      <td>1</td>\n",
       "      <td>39</td>\n",
       "      <td>Male</td>\n",
       "      <td>1</td>\n",
       "      <td>Electronics</td>\n",
       "      <td>93.775039</td>\n",
       "      <td>0</td>\n",
       "    </tr>\n",
       "    <tr>\n",
       "      <th>1</th>\n",
       "      <td>1</td>\n",
       "      <td>39</td>\n",
       "      <td>Male</td>\n",
       "      <td>1</td>\n",
       "      <td>Home Essentials</td>\n",
       "      <td>65.573266</td>\n",
       "      <td>0</td>\n",
       "    </tr>\n",
       "    <tr>\n",
       "      <th>2</th>\n",
       "      <td>1</td>\n",
       "      <td>39</td>\n",
       "      <td>Male</td>\n",
       "      <td>1</td>\n",
       "      <td>Home Essentials</td>\n",
       "      <td>61.982719</td>\n",
       "      <td>0</td>\n",
       "    </tr>\n",
       "    <tr>\n",
       "      <th>3</th>\n",
       "      <td>1</td>\n",
       "      <td>39</td>\n",
       "      <td>Male</td>\n",
       "      <td>1</td>\n",
       "      <td>Electronics</td>\n",
       "      <td>46.487828</td>\n",
       "      <td>1</td>\n",
       "    </tr>\n",
       "    <tr>\n",
       "      <th>4</th>\n",
       "      <td>1</td>\n",
       "      <td>39</td>\n",
       "      <td>Male</td>\n",
       "      <td>1</td>\n",
       "      <td>Home Essentials</td>\n",
       "      <td>93.138071</td>\n",
       "      <td>0</td>\n",
       "    </tr>\n",
       "  </tbody>\n",
       "</table>\n",
       "</div>"
      ],
      "text/plain": [
       "   Customer_ID  Age Gender  Campaign_Exposure Transaction_Category  \\\n",
       "0            1   39   Male                  1          Electronics   \n",
       "1            1   39   Male                  1      Home Essentials   \n",
       "2            1   39   Male                  1      Home Essentials   \n",
       "3            1   39   Male                  1          Electronics   \n",
       "4            1   39   Male                  1      Home Essentials   \n",
       "\n",
       "   Purchase_Amount  Premium_Product  \n",
       "0        93.775039                0  \n",
       "1        65.573266                0  \n",
       "2        61.982719                0  \n",
       "3        46.487828                1  \n",
       "4        93.138071                0  "
      ]
     },
     "execution_count": 34,
     "metadata": {},
     "output_type": "execute_result"
    }
   ],
   "source": [
    "df.head()"
   ]
  },
  {
   "cell_type": "code",
   "execution_count": 35,
   "metadata": {},
   "outputs": [],
   "source": [
    "# user level data\n",
    "users = df.groupby('Customer_ID')[['Campaign_Exposure', 'Purchase_Amount', 'Premium_Product']].agg({'Campaign_Exposure':'max',\n",
    "                                                                                                     'Purchase_Amount':'mean', 'Premium_Product':['mean','count']})"
   ]
  },
  {
   "cell_type": "code",
   "execution_count": 36,
   "metadata": {},
   "outputs": [
    {
     "data": {
      "text/html": [
       "<div>\n",
       "<style scoped>\n",
       "    .dataframe tbody tr th:only-of-type {\n",
       "        vertical-align: middle;\n",
       "    }\n",
       "\n",
       "    .dataframe tbody tr th {\n",
       "        vertical-align: top;\n",
       "    }\n",
       "\n",
       "    .dataframe thead tr th {\n",
       "        text-align: left;\n",
       "    }\n",
       "\n",
       "    .dataframe thead tr:last-of-type th {\n",
       "        text-align: right;\n",
       "    }\n",
       "</style>\n",
       "<table border=\"1\" class=\"dataframe\">\n",
       "  <thead>\n",
       "    <tr>\n",
       "      <th></th>\n",
       "      <th>Campaign_Exposure</th>\n",
       "      <th>Purchase_Amount</th>\n",
       "      <th colspan=\"2\" halign=\"left\">Premium_Product</th>\n",
       "    </tr>\n",
       "    <tr>\n",
       "      <th></th>\n",
       "      <th>max</th>\n",
       "      <th>mean</th>\n",
       "      <th>mean</th>\n",
       "      <th>count</th>\n",
       "    </tr>\n",
       "    <tr>\n",
       "      <th>Customer_ID</th>\n",
       "      <th></th>\n",
       "      <th></th>\n",
       "      <th></th>\n",
       "      <th></th>\n",
       "    </tr>\n",
       "  </thead>\n",
       "  <tbody>\n",
       "    <tr>\n",
       "      <th>1</th>\n",
       "      <td>1</td>\n",
       "      <td>62.740377</td>\n",
       "      <td>0.400000</td>\n",
       "      <td>15</td>\n",
       "    </tr>\n",
       "    <tr>\n",
       "      <th>2</th>\n",
       "      <td>0</td>\n",
       "      <td>49.089058</td>\n",
       "      <td>0.333333</td>\n",
       "      <td>9</td>\n",
       "    </tr>\n",
       "    <tr>\n",
       "      <th>3</th>\n",
       "      <td>0</td>\n",
       "      <td>50.121352</td>\n",
       "      <td>0.200000</td>\n",
       "      <td>5</td>\n",
       "    </tr>\n",
       "    <tr>\n",
       "      <th>4</th>\n",
       "      <td>0</td>\n",
       "      <td>61.712429</td>\n",
       "      <td>0.285714</td>\n",
       "      <td>7</td>\n",
       "    </tr>\n",
       "    <tr>\n",
       "      <th>5</th>\n",
       "      <td>1</td>\n",
       "      <td>58.347321</td>\n",
       "      <td>0.400000</td>\n",
       "      <td>15</td>\n",
       "    </tr>\n",
       "    <tr>\n",
       "      <th>...</th>\n",
       "      <td>...</td>\n",
       "      <td>...</td>\n",
       "      <td>...</td>\n",
       "      <td>...</td>\n",
       "    </tr>\n",
       "    <tr>\n",
       "      <th>996</th>\n",
       "      <td>1</td>\n",
       "      <td>58.144164</td>\n",
       "      <td>0.083333</td>\n",
       "      <td>12</td>\n",
       "    </tr>\n",
       "    <tr>\n",
       "      <th>997</th>\n",
       "      <td>1</td>\n",
       "      <td>61.809425</td>\n",
       "      <td>0.333333</td>\n",
       "      <td>15</td>\n",
       "    </tr>\n",
       "    <tr>\n",
       "      <th>998</th>\n",
       "      <td>0</td>\n",
       "      <td>43.168841</td>\n",
       "      <td>0.200000</td>\n",
       "      <td>10</td>\n",
       "    </tr>\n",
       "    <tr>\n",
       "      <th>999</th>\n",
       "      <td>0</td>\n",
       "      <td>60.017800</td>\n",
       "      <td>0.285714</td>\n",
       "      <td>7</td>\n",
       "    </tr>\n",
       "    <tr>\n",
       "      <th>1000</th>\n",
       "      <td>1</td>\n",
       "      <td>70.610554</td>\n",
       "      <td>0.500000</td>\n",
       "      <td>14</td>\n",
       "    </tr>\n",
       "  </tbody>\n",
       "</table>\n",
       "<p>1000 rows × 4 columns</p>\n",
       "</div>"
      ],
      "text/plain": [
       "            Campaign_Exposure Purchase_Amount Premium_Product      \n",
       "                          max            mean            mean count\n",
       "Customer_ID                                                        \n",
       "1                           1       62.740377        0.400000    15\n",
       "2                           0       49.089058        0.333333     9\n",
       "3                           0       50.121352        0.200000     5\n",
       "4                           0       61.712429        0.285714     7\n",
       "5                           1       58.347321        0.400000    15\n",
       "...                       ...             ...             ...   ...\n",
       "996                         1       58.144164        0.083333    12\n",
       "997                         1       61.809425        0.333333    15\n",
       "998                         0       43.168841        0.200000    10\n",
       "999                         0       60.017800        0.285714     7\n",
       "1000                        1       70.610554        0.500000    14\n",
       "\n",
       "[1000 rows x 4 columns]"
      ]
     },
     "execution_count": 36,
     "metadata": {},
     "output_type": "execute_result"
    }
   ],
   "source": [
    "users"
   ]
  },
  {
   "cell_type": "code",
   "execution_count": 37,
   "metadata": {},
   "outputs": [],
   "source": [
    "# divide the dataframe based on campaign exposure\n",
    "exp = users[users['Campaign_Exposure']['max']==1]\n",
    "not_exp = users[users['Campaign_Exposure']['max']==0]"
   ]
  },
  {
   "cell_type": "code",
   "execution_count": 38,
   "metadata": {},
   "outputs": [
    {
     "data": {
      "text/plain": [
       "(array([ 2.,  2.,  1.,  2.,  4.,  5.,  8., 12., 10., 28., 33., 28., 35.,\n",
       "        42., 45., 30., 39., 33., 28., 29., 29., 19., 12., 12.,  4.,  3.,\n",
       "         3.,  1.,  0.,  1.]),\n",
       " array([38.92184852, 40.28810519, 41.65436185, 43.02061851, 44.38687517,\n",
       "        45.75313184, 47.1193885 , 48.48564516, 49.85190183, 51.21815849,\n",
       "        52.58441515, 53.95067181, 55.31692848, 56.68318514, 58.0494418 ,\n",
       "        59.41569847, 60.78195513, 62.14821179, 63.51446846, 64.88072512,\n",
       "        66.24698178, 67.61323844, 68.97949511, 70.34575177, 71.71200843,\n",
       "        73.0782651 , 74.44452176, 75.81077842, 77.17703508, 78.54329175,\n",
       "        79.90954841]),\n",
       " <BarContainer object of 30 artists>)"
      ]
     },
     "execution_count": 38,
     "metadata": {},
     "output_type": "execute_result"
    },
    {
     "data": {
      "image/png": "[encoded data removed]",
      "text/plain": [
       "<Figure size 640x480 with 1 Axes>"
      ]
     },
     "metadata": {},
     "output_type": "display_data"
    }
   ],
   "source": [
    "# purchase amount\n",
    "plt.hist(exp['Purchase_Amount'], bins=30)"
   ]
  },
  {
   "cell_type": "code",
   "execution_count": 39,
   "metadata": {},
   "outputs": [
    {
     "data": {
      "text/plain": [
       "(array([ 3.,  0.,  3.,  4.,  4.,  7.,  7., 15., 17., 29., 24., 34., 44.,\n",
       "        39., 32., 40., 40., 39., 28., 30., 21., 18.,  8.,  2.,  6.,  3.,\n",
       "         1.,  0.,  1.,  1.]),\n",
       " array([28.81281312, 30.27893079, 31.74504847, 33.21116615, 34.67728383,\n",
       "        36.1434015 , 37.60951918, 39.07563686, 40.54175454, 42.00787221,\n",
       "        43.47398989, 44.94010757, 46.40622524, 47.87234292, 49.3384606 ,\n",
       "        50.80457828, 52.27069595, 53.73681363, 55.20293131, 56.66904898,\n",
       "        58.13516666, 59.60128434, 61.06740202, 62.53351969, 63.99963737,\n",
       "        65.46575505, 66.93187272, 68.3979904 , 69.86410808, 71.33022576,\n",
       "        72.79634343]),\n",
       " <BarContainer object of 30 artists>)"
      ]
     },
     "execution_count": 39,
     "metadata": {},
     "output_type": "execute_result"
    },
    {
     "data": {
      "image/png": "[encoded data removed]",
      "text/plain": [
       "<Figure size 640x480 with 1 Axes>"
      ]
     },
     "metadata": {},
     "output_type": "display_data"
    }
   ],
   "source": [
    "# purchase amount\n",
    "plt.hist(not_exp['Purchase_Amount'], bins=30)"
   ]
  },
  {
   "cell_type": "code",
   "execution_count": 40,
   "metadata": {},
   "outputs": [],
   "source": [
    "t_stat, p_value = ttest_ind(not_exp['Purchase_Amount'], exp['Purchase_Amount'], alternative='less')"
   ]
  },
  {
   "cell_type": "code",
   "execution_count": 41,
   "metadata": {},
   "outputs": [
    {
     "name": "stdout",
     "output_type": "stream",
     "text": [
      "[5.88452656e-85]\n"
     ]
    }
   ],
   "source": [
    "print(p_value)"
   ]
  },
  {
   "cell_type": "code",
   "execution_count": 42,
   "metadata": {},
   "outputs": [
    {
     "data": {
      "text/plain": [
       "mean    50.093457\n",
       "dtype: float64"
      ]
     },
     "execution_count": 42,
     "metadata": {},
     "output_type": "execute_result"
    }
   ],
   "source": [
    "not_exp['Purchase_Amount'].mean()"
   ]
  },
  {
   "cell_type": "code",
   "execution_count": 43,
   "metadata": {},
   "outputs": [
    {
     "data": {
      "text/plain": [
       "mean    59.418867\n",
       "dtype: float64"
      ]
     },
     "execution_count": 43,
     "metadata": {},
     "output_type": "execute_result"
    }
   ],
   "source": [
    "exp['Purchase_Amount'].mean()"
   ]
  },
  {
   "cell_type": "code",
   "execution_count": 44,
   "metadata": {},
   "outputs": [
    {
     "data": {
      "text/plain": [
       "mean    0.18616\n",
       "dtype: float64"
      ]
     },
     "execution_count": 44,
     "metadata": {},
     "output_type": "execute_result"
    }
   ],
   "source": [
    "# calculating % lift between test and control groups\n",
    "(exp['Purchase_Amount'].mean() / not_exp['Purchase_Amount'].mean()) - 1"
   ]
  },
  {
   "cell_type": "code",
   "execution_count": 45,
   "metadata": {},
   "outputs": [],
   "source": [
    "# non-parametric"
   ]
  },
  {
   "cell_type": "code",
   "execution_count": 46,
   "metadata": {},
   "outputs": [
    {
     "data": {
      "text/html": [
       "<div>\n",
       "<style scoped>\n",
       "    .dataframe tbody tr th:only-of-type {\n",
       "        vertical-align: middle;\n",
       "    }\n",
       "\n",
       "    .dataframe tbody tr th {\n",
       "        vertical-align: top;\n",
       "    }\n",
       "\n",
       "    .dataframe thead tr th {\n",
       "        text-align: left;\n",
       "    }\n",
       "\n",
       "    .dataframe thead tr:last-of-type th {\n",
       "        text-align: right;\n",
       "    }\n",
       "</style>\n",
       "<table border=\"1\" class=\"dataframe\">\n",
       "  <thead>\n",
       "    <tr>\n",
       "      <th></th>\n",
       "      <th>Campaign_Exposure</th>\n",
       "      <th>Purchase_Amount</th>\n",
       "      <th colspan=\"2\" halign=\"left\">Premium_Product</th>\n",
       "    </tr>\n",
       "    <tr>\n",
       "      <th></th>\n",
       "      <th>max</th>\n",
       "      <th>mean</th>\n",
       "      <th>mean</th>\n",
       "      <th>count</th>\n",
       "    </tr>\n",
       "    <tr>\n",
       "      <th>Customer_ID</th>\n",
       "      <th></th>\n",
       "      <th></th>\n",
       "      <th></th>\n",
       "      <th></th>\n",
       "    </tr>\n",
       "  </thead>\n",
       "  <tbody>\n",
       "    <tr>\n",
       "      <th>2</th>\n",
       "      <td>0</td>\n",
       "      <td>49.089058</td>\n",
       "      <td>0.333333</td>\n",
       "      <td>9</td>\n",
       "    </tr>\n",
       "    <tr>\n",
       "      <th>3</th>\n",
       "      <td>0</td>\n",
       "      <td>50.121352</td>\n",
       "      <td>0.200000</td>\n",
       "      <td>5</td>\n",
       "    </tr>\n",
       "    <tr>\n",
       "      <th>4</th>\n",
       "      <td>0</td>\n",
       "      <td>61.712429</td>\n",
       "      <td>0.285714</td>\n",
       "      <td>7</td>\n",
       "    </tr>\n",
       "    <tr>\n",
       "      <th>7</th>\n",
       "      <td>0</td>\n",
       "      <td>43.652855</td>\n",
       "      <td>0.200000</td>\n",
       "      <td>10</td>\n",
       "    </tr>\n",
       "    <tr>\n",
       "      <th>8</th>\n",
       "      <td>0</td>\n",
       "      <td>39.521679</td>\n",
       "      <td>0.166667</td>\n",
       "      <td>6</td>\n",
       "    </tr>\n",
       "    <tr>\n",
       "      <th>...</th>\n",
       "      <td>...</td>\n",
       "      <td>...</td>\n",
       "      <td>...</td>\n",
       "      <td>...</td>\n",
       "    </tr>\n",
       "    <tr>\n",
       "      <th>985</th>\n",
       "      <td>0</td>\n",
       "      <td>45.183477</td>\n",
       "      <td>0.111111</td>\n",
       "      <td>9</td>\n",
       "    </tr>\n",
       "    <tr>\n",
       "      <th>990</th>\n",
       "      <td>0</td>\n",
       "      <td>47.856384</td>\n",
       "      <td>0.300000</td>\n",
       "      <td>10</td>\n",
       "    </tr>\n",
       "    <tr>\n",
       "      <th>992</th>\n",
       "      <td>0</td>\n",
       "      <td>46.989647</td>\n",
       "      <td>0.166667</td>\n",
       "      <td>6</td>\n",
       "    </tr>\n",
       "    <tr>\n",
       "      <th>998</th>\n",
       "      <td>0</td>\n",
       "      <td>43.168841</td>\n",
       "      <td>0.200000</td>\n",
       "      <td>10</td>\n",
       "    </tr>\n",
       "    <tr>\n",
       "      <th>999</th>\n",
       "      <td>0</td>\n",
       "      <td>60.017800</td>\n",
       "      <td>0.285714</td>\n",
       "      <td>7</td>\n",
       "    </tr>\n",
       "  </tbody>\n",
       "</table>\n",
       "<p>500 rows × 4 columns</p>\n",
       "</div>"
      ],
      "text/plain": [
       "            Campaign_Exposure Purchase_Amount Premium_Product      \n",
       "                          max            mean            mean count\n",
       "Customer_ID                                                        \n",
       "2                           0       49.089058        0.333333     9\n",
       "3                           0       50.121352        0.200000     5\n",
       "4                           0       61.712429        0.285714     7\n",
       "7                           0       43.652855        0.200000    10\n",
       "8                           0       39.521679        0.166667     6\n",
       "...                       ...             ...             ...   ...\n",
       "985                         0       45.183477        0.111111     9\n",
       "990                         0       47.856384        0.300000    10\n",
       "992                         0       46.989647        0.166667     6\n",
       "998                         0       43.168841        0.200000    10\n",
       "999                         0       60.017800        0.285714     7\n",
       "\n",
       "[500 rows x 4 columns]"
      ]
     },
     "execution_count": 46,
     "metadata": {},
     "output_type": "execute_result"
    }
   ],
   "source": [
    "not_exp"
   ]
  },
  {
   "cell_type": "code",
   "execution_count": 47,
   "metadata": {},
   "outputs": [],
   "source": [
    "u_stat, p_value = mannwhitneyu(not_exp['Premium_Product']['count'], exp['Premium_Product']['count'], alternative='less')"
   ]
  },
  {
   "cell_type": "code",
   "execution_count": 48,
   "metadata": {},
   "outputs": [
    {
     "name": "stdout",
     "output_type": "stream",
     "text": [
      "3.8162686220926186e-158\n"
     ]
    }
   ],
   "source": [
    "print(p_value)"
   ]
  },
  {
   "cell_type": "code",
   "execution_count": 49,
   "metadata": {},
   "outputs": [],
   "source": [
    "# non parametric\n",
    "u_stat, p_value = mannwhitneyu(not_exp['Premium_Product']['mean'], exp['Premium_Product']['mean'], alternative='less')"
   ]
  },
  {
   "cell_type": "code",
   "execution_count": 50,
   "metadata": {},
   "outputs": [
    {
     "name": "stdout",
     "output_type": "stream",
     "text": [
      "2.638301517524689e-32\n"
     ]
    }
   ],
   "source": [
    "print(p_value)"
   ]
  },
  {
   "cell_type": "code",
   "execution_count": 53,
   "metadata": {},
   "outputs": [
    {
     "data": {
      "text/html": [
       "<div>\n",
       "<style scoped>\n",
       "    .dataframe tbody tr th:only-of-type {\n",
       "        vertical-align: middle;\n",
       "    }\n",
       "\n",
       "    .dataframe tbody tr th {\n",
       "        vertical-align: top;\n",
       "    }\n",
       "\n",
       "    .dataframe thead th {\n",
       "        text-align: right;\n",
       "    }\n",
       "</style>\n",
       "<table border=\"1\" class=\"dataframe\">\n",
       "  <thead>\n",
       "    <tr style=\"text-align: right;\">\n",
       "      <th></th>\n",
       "      <th>Clothing</th>\n",
       "      <th>Electronics</th>\n",
       "      <th>Home Essentials</th>\n",
       "    </tr>\n",
       "  </thead>\n",
       "  <tbody>\n",
       "    <tr>\n",
       "      <th>0</th>\n",
       "      <td>0</td>\n",
       "      <td>1</td>\n",
       "      <td>0</td>\n",
       "    </tr>\n",
       "    <tr>\n",
       "      <th>1</th>\n",
       "      <td>0</td>\n",
       "      <td>0</td>\n",
       "      <td>1</td>\n",
       "    </tr>\n",
       "    <tr>\n",
       "      <th>2</th>\n",
       "      <td>0</td>\n",
       "      <td>0</td>\n",
       "      <td>1</td>\n",
       "    </tr>\n",
       "    <tr>\n",
       "      <th>3</th>\n",
       "      <td>0</td>\n",
       "      <td>1</td>\n",
       "      <td>0</td>\n",
       "    </tr>\n",
       "    <tr>\n",
       "      <th>4</th>\n",
       "      <td>0</td>\n",
       "      <td>0</td>\n",
       "      <td>1</td>\n",
       "    </tr>\n",
       "    <tr>\n",
       "      <th>...</th>\n",
       "      <td>...</td>\n",
       "      <td>...</td>\n",
       "      <td>...</td>\n",
       "    </tr>\n",
       "    <tr>\n",
       "      <th>10029</th>\n",
       "      <td>0</td>\n",
       "      <td>1</td>\n",
       "      <td>0</td>\n",
       "    </tr>\n",
       "    <tr>\n",
       "      <th>10030</th>\n",
       "      <td>0</td>\n",
       "      <td>0</td>\n",
       "      <td>1</td>\n",
       "    </tr>\n",
       "    <tr>\n",
       "      <th>10031</th>\n",
       "      <td>1</td>\n",
       "      <td>0</td>\n",
       "      <td>0</td>\n",
       "    </tr>\n",
       "    <tr>\n",
       "      <th>10032</th>\n",
       "      <td>0</td>\n",
       "      <td>0</td>\n",
       "      <td>1</td>\n",
       "    </tr>\n",
       "    <tr>\n",
       "      <th>10033</th>\n",
       "      <td>0</td>\n",
       "      <td>1</td>\n",
       "      <td>0</td>\n",
       "    </tr>\n",
       "  </tbody>\n",
       "</table>\n",
       "<p>10034 rows × 3 columns</p>\n",
       "</div>"
      ],
      "text/plain": [
       "       Clothing  Electronics  Home Essentials\n",
       "0             0            1                0\n",
       "1             0            0                1\n",
       "2             0            0                1\n",
       "3             0            1                0\n",
       "4             0            0                1\n",
       "...         ...          ...              ...\n",
       "10029         0            1                0\n",
       "10030         0            0                1\n",
       "10031         1            0                0\n",
       "10032         0            0                1\n",
       "10033         0            1                0\n",
       "\n",
       "[10034 rows x 3 columns]"
      ]
     },
     "execution_count": 53,
     "metadata": {},
     "output_type": "execute_result"
    }
   ],
   "source": [
    "# one hot encoding or DUMMY variables\n",
    "pd.get_dummies(df['Transaction_Category'], dtype=int)"
   ]
  },
  {
   "cell_type": "code",
   "execution_count": 54,
   "metadata": {},
   "outputs": [
    {
     "data": {
      "text/html": [
       "<div>\n",
       "<style scoped>\n",
       "    .dataframe tbody tr th:only-of-type {\n",
       "        vertical-align: middle;\n",
       "    }\n",
       "\n",
       "    .dataframe tbody tr th {\n",
       "        vertical-align: top;\n",
       "    }\n",
       "\n",
       "    .dataframe thead th {\n",
       "        text-align: right;\n",
       "    }\n",
       "</style>\n",
       "<table border=\"1\" class=\"dataframe\">\n",
       "  <thead>\n",
       "    <tr style=\"text-align: right;\">\n",
       "      <th></th>\n",
       "      <th>Customer_ID</th>\n",
       "      <th>Age</th>\n",
       "      <th>Gender</th>\n",
       "      <th>Campaign_Exposure</th>\n",
       "      <th>Transaction_Category</th>\n",
       "      <th>Purchase_Amount</th>\n",
       "      <th>Premium_Product</th>\n",
       "    </tr>\n",
       "  </thead>\n",
       "  <tbody>\n",
       "    <tr>\n",
       "      <th>0</th>\n",
       "      <td>1</td>\n",
       "      <td>39</td>\n",
       "      <td>Male</td>\n",
       "      <td>1</td>\n",
       "      <td>Electronics</td>\n",
       "      <td>93.775039</td>\n",
       "      <td>0</td>\n",
       "    </tr>\n",
       "    <tr>\n",
       "      <th>1</th>\n",
       "      <td>1</td>\n",
       "      <td>39</td>\n",
       "      <td>Male</td>\n",
       "      <td>1</td>\n",
       "      <td>Home Essentials</td>\n",
       "      <td>65.573266</td>\n",
       "      <td>0</td>\n",
       "    </tr>\n",
       "    <tr>\n",
       "      <th>2</th>\n",
       "      <td>1</td>\n",
       "      <td>39</td>\n",
       "      <td>Male</td>\n",
       "      <td>1</td>\n",
       "      <td>Home Essentials</td>\n",
       "      <td>61.982719</td>\n",
       "      <td>0</td>\n",
       "    </tr>\n",
       "    <tr>\n",
       "      <th>3</th>\n",
       "      <td>1</td>\n",
       "      <td>39</td>\n",
       "      <td>Male</td>\n",
       "      <td>1</td>\n",
       "      <td>Electronics</td>\n",
       "      <td>46.487828</td>\n",
       "      <td>1</td>\n",
       "    </tr>\n",
       "    <tr>\n",
       "      <th>4</th>\n",
       "      <td>1</td>\n",
       "      <td>39</td>\n",
       "      <td>Male</td>\n",
       "      <td>1</td>\n",
       "      <td>Home Essentials</td>\n",
       "      <td>93.138071</td>\n",
       "      <td>0</td>\n",
       "    </tr>\n",
       "  </tbody>\n",
       "</table>\n",
       "</div>"
      ],
      "text/plain": [
       "   Customer_ID  Age Gender  Campaign_Exposure Transaction_Category  \\\n",
       "0            1   39   Male                  1          Electronics   \n",
       "1            1   39   Male                  1      Home Essentials   \n",
       "2            1   39   Male                  1      Home Essentials   \n",
       "3            1   39   Male                  1          Electronics   \n",
       "4            1   39   Male                  1      Home Essentials   \n",
       "\n",
       "   Purchase_Amount  Premium_Product  \n",
       "0        93.775039                0  \n",
       "1        65.573266                0  \n",
       "2        61.982719                0  \n",
       "3        46.487828                1  \n",
       "4        93.138071                0  "
      ]
     },
     "execution_count": 54,
     "metadata": {},
     "output_type": "execute_result"
    }
   ],
   "source": [
    "df.head()"
   ]
  },
  {
   "cell_type": "code",
   "execution_count": null,
   "metadata": {},
   "outputs": [],
   "source": []
  }
 ],
 "metadata": {
  "kernelspec": {
   "display_name": "Python 3",
   "language": "python",
   "name": "python3"
  },
  "language_info": {
   "codemirror_mode": {
    "name": "ipython",
    "version": 3
   },
   "file_extension": ".py",
   "mimetype": "text/x-python",
   "name": "python",
   "nbconvert_exporter": "python",
   "pygments_lexer": "ipython3",
   "version": "3.9.6"
  }
 },
 "nbformat": 4,
 "nbformat_minor": 2
}
